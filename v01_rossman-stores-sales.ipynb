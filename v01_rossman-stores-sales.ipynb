{
 "cells": [
  {
   "cell_type": "markdown",
   "id": "a69793b8-2c70-470d-980a-bca4b9c5d16d",
   "metadata": {
    "jp-MarkdownHeadingCollapsed": true,
    "tags": []
   },
   "source": [
    "# BUSINESS UNDERSTANDING"
   ]
  },
  {
   "cell_type": "code",
   "execution_count": null,
   "id": "40c2e0a4-2d8e-4615-a5b3-347aec0e4a9e",
   "metadata": {},
   "outputs": [],
   "source": [
    "from IPython.display import Image\n",
    "Image( 'img/CRISP.png' )"
   ]
  },
  {
   "cell_type": "markdown",
   "id": "d0b341cf-3e2d-4f8a-9361-55d61800fab3",
   "metadata": {},
   "source": []
  },
  {
   "cell_type": "markdown",
   "id": "592d826d-deb2-4a83-b4a4-21689294b1f4",
   "metadata": {},
   "source": []
  },
  {
   "cell_type": "markdown",
   "id": "3ab73233-72ca-4fc3-95e6-cbd46bec3e7c",
   "metadata": {},
   "source": []
  },
  {
   "cell_type": "markdown",
   "id": "b6084673-ab6f-445b-81b2-647362040b10",
   "metadata": {
    "tags": []
   },
   "source": [
    "# 0 IMPORTS"
   ]
  },
  {
   "cell_type": "code",
   "execution_count": null,
   "id": "60af0957-8b06-4648-8926-71e6fcbc8d8c",
   "metadata": {},
   "outputs": [],
   "source": [
    "import pandas as pd\n",
    "import inflection\n",
    "import math\n",
    "import numpy as np\n",
    "import datetime\n",
    "from scipy import stats as ss\n",
    "\n",
    "\n",
    "from tabulate import tabulate\n",
    "import seaborn as sns\n",
    "import matplotlib.pyplot as plt\n",
    "\n",
    "import warnings\n",
    "warnings.filterwarnings('ignore')\n",
    "# warnings.filterwarnings('once')\n",
    "\n",
    "from IPython.core.display import HTML\n",
    "from IPython.display import Image\n",
    "\n",
    "\n",
    "from sklearn.preprocessing import StandardScaler\n",
    "from sklearn.preprocessing import MinMaxScaler, RobustScaler, LabelEncoder\n",
    "from sklearn.ensemble      import RandomForestRegressor\n",
    "from sklearn.metrics       import mean_absolute_error, mean_squared_error\n",
    "from sklearn.linear_model  import LinearRegression, Lasso\n",
    "from sklearn.ensemble      import RandomForestRegressor\n",
    "import xgboost as xgb\n",
    "\n",
    "\n",
    "from boruta import BorutaPy"
   ]
  },
  {
   "cell_type": "markdown",
   "id": "65e8bd4d-e801-47a5-9ea8-fd1bf5b8df8a",
   "metadata": {
    "jp-MarkdownHeadingCollapsed": true,
    "tags": []
   },
   "source": [
    "## 0.1 Helper Functions"
   ]
  },
  {
   "cell_type": "code",
   "execution_count": null,
   "id": "4112fca4-5f9d-489e-ac71-eccf8fb72a8a",
   "metadata": {},
   "outputs": [],
   "source": [
    "def cramer_v( x, y ):\n",
    "    cm = pd.crosstab( x, y ).values\n",
    "    n = cm.sum()\n",
    "    r, k = cm.shape\n",
    "    chi2 = ss.chi2_contingency( cm )[0]\n",
    "    \n",
    "    # Cramer V overstimation correction.\n",
    "    chi2_ = max( 0, chi2 - (k-1)*(r-1)/(n-1) )\n",
    "    k_ = k - (k-1)**2/(n-1)\n",
    "    r_ = r - (r-1)**2/(n-1)\n",
    "    \n",
    "    \n",
    "    return np.sqrt( (chi2_/n) / ( min( k_-1, r_-1 ) ) )\n",
    "\n",
    "\n",
    "\n",
    "def jupyter_settings():\n",
    "    %matplotlib inline\n",
    "    \n",
    "    plt.style.use( 'bmh' )\n",
    "    plt.rcParams['figure.figsize'] = [ 25, 12 ]\n",
    "    plt.rcParams['font.size'] = 24\n",
    "    \n",
    "    display( HTML( '<style>.container { width:100% !important; }</style>' ) )\n",
    "    pd.options.display.max_columns = None\n",
    "    pd.options.display.max_rows = None\n",
    "    pd.set_option( 'display.expand_frame_repr', False )\n",
    "    \n",
    "    sns.set()\n",
    "\n",
    "\n",
    "\n",
    "def mean_absolute_percentage_error( y, yhat ):\n",
    "    return np.mean( np.abs( ( y - yhat ) / y ) )\n",
    "\n",
    "\n",
    "\n",
    "def ml_error( model_name, y, yhat ):\n",
    "    mae = mean_absolute_error( y, yhat )\n",
    "    mape = mean_absolute_percentage_error( y, yhat )\n",
    "    rmse = np.sqrt( mean_squared_error( y, yhat ) )\n",
    "    \n",
    "    return pd.DataFrame( { 'Model Name': model_name,\n",
    "                           'MAE': mae,\n",
    "                           'MAPE': mape,\n",
    "                           'RMSE': rmse }, index=[0] )"
   ]
  },
  {
   "cell_type": "code",
   "execution_count": null,
   "id": "ebc1119a-72f8-46b8-ab1d-b4203e48a8b9",
   "metadata": {},
   "outputs": [],
   "source": [
    "jupyter_settings()"
   ]
  },
  {
   "cell_type": "markdown",
   "id": "021b7f4f-7338-4358-88cd-df30aec4df4b",
   "metadata": {
    "jp-MarkdownHeadingCollapsed": true,
    "tags": []
   },
   "source": [
    "## 0.2 Loading Data"
   ]
  },
  {
   "cell_type": "markdown",
   "id": "f610f101-bcf5-4c2b-8c3f-e2d2a53807e5",
   "metadata": {},
   "source": [
    "CRISP-DS: DATA EXTRACTION (usually comes from SQL queries to here)"
   ]
  },
  {
   "cell_type": "code",
   "execution_count": null,
   "id": "a096f18a-7523-44c0-a2e0-726d9ee86607",
   "metadata": {},
   "outputs": [],
   "source": [
    "df_sales_raw = pd.read_csv( 'data/train.csv', low_memory=False )\n",
    "df_store_raw = pd.read_csv( 'data/store.csv', low_memory=False )\n",
    "\n",
    "# merge\n",
    "df_raw = pd.merge( df_sales_raw, df_store_raw, how='left', on='Store')"
   ]
  },
  {
   "cell_type": "code",
   "execution_count": null,
   "id": "b39b558a-d6d5-4497-b2a2-5b8e7cc2a182",
   "metadata": {},
   "outputs": [],
   "source": [
    "df_raw.sample()"
   ]
  },
  {
   "cell_type": "markdown",
   "id": "5ab1d95a-dceb-439b-8dfd-409e2496a727",
   "metadata": {
    "jp-MarkdownHeadingCollapsed": true,
    "tags": []
   },
   "source": [
    "# 1 DATA DESCRIPTION"
   ]
  },
  {
   "cell_type": "markdown",
   "id": "fa3d0f1b-ba34-4b9b-bbe3-46fb18bb9309",
   "metadata": {},
   "source": [
    "CRISP-DS: DATA CLEANING"
   ]
  },
  {
   "cell_type": "markdown",
   "id": "6cf61d22-3c7b-4d71-9608-f7e7d10d5a10",
   "metadata": {},
   "source": [
    "Describe data here. But first, copy it."
   ]
  },
  {
   "cell_type": "code",
   "execution_count": null,
   "id": "a3fe10e7-8aeb-4786-9f4a-60a5fecde4a5",
   "metadata": {},
   "outputs": [],
   "source": [
    "df1 = df_raw.copy()"
   ]
  },
  {
   "cell_type": "markdown",
   "id": "f87f0fef-bba5-4e97-9139-bac1cdda2476",
   "metadata": {
    "tags": []
   },
   "source": [
    "## 1.1 Rename Columns"
   ]
  },
  {
   "cell_type": "markdown",
   "id": "00943c87-b35c-41e0-9dc1-803e89cb64af",
   "metadata": {},
   "source": [
    "Renaming columns can make life easier through the project. Check it out!"
   ]
  },
  {
   "cell_type": "code",
   "execution_count": null,
   "id": "3cced1a5-9beb-4d9d-b1cc-ded5d9c14645",
   "metadata": {},
   "outputs": [],
   "source": [
    "df1.columns"
   ]
  },
  {
   "cell_type": "code",
   "execution_count": null,
   "id": "2ef5bbb6-2b0e-4231-bf45-45b0138a2667",
   "metadata": {},
   "outputs": [],
   "source": [
    "cols_old = df1.columns\n",
    "\n",
    "snakecase = lambda x: inflection.underscore( x )\n",
    "\n",
    "cols_new = list( map( snakecase, cols_old ) )\n",
    "\n",
    "# rename\n",
    "df1.columns = cols_new"
   ]
  },
  {
   "cell_type": "code",
   "execution_count": null,
   "id": "4f31c03c-3738-44c1-8776-908f25e11cb7",
   "metadata": {},
   "outputs": [],
   "source": [
    "df1.columns"
   ]
  },
  {
   "cell_type": "markdown",
   "id": "7d418061-3433-43c6-8a84-8cbf9f89b87f",
   "metadata": {
    "tags": []
   },
   "source": [
    "## 1.2 Data Dimensions"
   ]
  },
  {
   "cell_type": "markdown",
   "id": "21175c7b-62d9-4653-ba88-81be4fd38a0f",
   "metadata": {},
   "source": [
    "Here we define the proper tools to deal with the dataset. Is my computer enough? Do I need a cloud server or use Spark?"
   ]
  },
  {
   "cell_type": "code",
   "execution_count": null,
   "id": "7ba289c8-c337-4ac5-906e-c585a829b86d",
   "metadata": {},
   "outputs": [],
   "source": [
    "print( 'Number of rows: {}'   .format( df1.shape[0] ) )\n",
    "print( 'Number of columns: {}'.format( df1.shape[1] ) )"
   ]
  },
  {
   "cell_type": "markdown",
   "id": "f6e0be8f-bd79-47b9-ade5-92c38c3f4640",
   "metadata": {},
   "source": [
    "## 1.3 Data Types"
   ]
  },
  {
   "cell_type": "markdown",
   "id": "1714bf09-e147-4f9f-8351-0f8b1c295042",
   "metadata": {},
   "source": [
    "Is your dataset assigned with proper data types? Usually Pandas assign non numbers as objects, so we fix it here if necessary.\n",
    "\n",
    "Even though we cannot reassign type of columns that have NA values, it's good to preparate those that are ready."
   ]
  },
  {
   "cell_type": "code",
   "execution_count": null,
   "id": "415c85d2-6bd3-47c7-858a-e65ac8946e21",
   "metadata": {},
   "outputs": [],
   "source": [
    "type_value_analysis = pd.concat([df1.dtypes, df1.isna().sum()], axis=1, keys=['Data Types', 'Missing Values'])\n",
    "print(type_value_analysis)"
   ]
  },
  {
   "cell_type": "code",
   "execution_count": null,
   "id": "601f7e03-1e50-4876-a1bc-0fe53974b6eb",
   "metadata": {},
   "outputs": [],
   "source": [
    "# Reassigning the column 'date' as datetime.\n",
    "df1['date'] = pd.to_datetime( df1['date'] )\n",
    "\n",
    "# Even though columns of week, month and year are assigned with float, we cannot change it due to missing values in it.\n",
    "df1.dtypes"
   ]
  },
  {
   "cell_type": "markdown",
   "id": "c7fb74b3-4ff8-49a4-b754-5c6c77f4b0e1",
   "metadata": {},
   "source": [
    "## 1.4 Check NA"
   ]
  },
  {
   "cell_type": "markdown",
   "id": "780bde7c-af34-49d2-8c2b-57b6e6494f31",
   "metadata": {},
   "source": [
    "What's the amount of NA?\n",
    "\n",
    "What's the reason for them?\n",
    "\n",
    "Depending on how it appears, there are some approaches we can take."
   ]
  },
  {
   "cell_type": "code",
   "execution_count": null,
   "id": "0a0d2bc3-4e61-4a35-9072-5cebddff1b33",
   "metadata": {},
   "outputs": [],
   "source": [
    "df1.isna().sum()"
   ]
  },
  {
   "cell_type": "markdown",
   "id": "aca323fc-d312-4424-b6f8-fa5b82f3a26f",
   "metadata": {},
   "source": [
    "## 1.5 Fillout NA"
   ]
  },
  {
   "cell_type": "markdown",
   "id": "9c551b4a-0a9a-4605-a222-7b2b05c48fe6",
   "metadata": {},
   "source": [
    "Some approaches are:\n",
    "- Delete them: fast and easy! (but can backfire, then experiment other option too)\n",
    "- Use ML slgorithms to fill it.\n",
    "- Analyze the Business context, information and come up with solutions."
   ]
  },
  {
   "cell_type": "code",
   "execution_count": null,
   "id": "784c806a-13b3-4c6d-8e34-9274adf55b97",
   "metadata": {},
   "outputs": [],
   "source": [
    "# competition_distance: distance in meters to the nearest competitor store\n",
    "\n",
    "# Hypothesis:\n",
    "# 1. There is no competitor;\n",
    "# 2. They are too far away.\n",
    "\n",
    "# Solution #01:\n",
    "# Change missing data to a distance waaay bigger than any other competitor distance.\n",
    "\n",
    "\n",
    "# Take max distance:\n",
    "max_dist = df1['competition_distance'].max()\n",
    "\n",
    "# Make the NA values significantly bigger distance than max_dist (times 3 in this case).\n",
    "df1['competition_distance'] =  df1['competition_distance'].apply( lambda x: (3*max_dist) if math.isnan( x ) else x )"
   ]
  },
  {
   "cell_type": "code",
   "execution_count": null,
   "id": "73fd0198-6b60-4242-a06d-8d6516d782c1",
   "metadata": {
    "tags": []
   },
   "outputs": [],
   "source": [
    "# Check NA again for competition_distance\n",
    "df1.isna().sum()"
   ]
  },
  {
   "cell_type": "code",
   "execution_count": null,
   "id": "a5adf30c-8fc7-4340-abfa-3bf710fc1734",
   "metadata": {},
   "outputs": [],
   "source": [
    "# competition_open_since_month/year: gives the approximate month/year of the time the nearest competitor was opened\n",
    "\n",
    "# Hypothesis:\n",
    "# 1. Competition opened store before us;\n",
    "# 2. It was simply not record.\n",
    "\n",
    "# Solution #01:\n",
    "# Use the column 'date' as reference for the opening of competition and watch the impact on the ML algorithms.\n",
    "\n",
    "df1['competition_open_since_month'] = df1.apply( lambda x: x['date'].month if math.isnan( x['competition_open_since_month'] ) else x['competition_open_since_month'], axis=1 )\n",
    "df1['competition_open_since_year'] = df1.apply( lambda x: x['date'].year if math.isnan( x['competition_open_since_year'] ) else x['competition_open_since_year'], axis=1 )"
   ]
  },
  {
   "cell_type": "code",
   "execution_count": null,
   "id": "5c4526fc-8f61-4332-ac88-e65804fac897",
   "metadata": {},
   "outputs": [],
   "source": [
    "df1.isna().sum()"
   ]
  },
  {
   "cell_type": "code",
   "execution_count": null,
   "id": "b57ec3e4-48b2-45ac-a30e-56118f36acfb",
   "metadata": {},
   "outputs": [],
   "source": [
    "# promo2_since_week/year: describes the year and calendar week when the store started participating in Promo2\n",
    "\n",
    "\n",
    "# Hypothesis:\n",
    "# 1. promo2 == 0.\n",
    "\n",
    "# Check hypothesis:\n",
    "# df1.loc[ df1['promo2'] == 0, ['promo2_since_week', 'promo2_since_year'] ].isna().sum()\n",
    "# Looks perfect!\n",
    "\n",
    "# Solution #01:\n",
    "# Fill NA with 'date' values.\n",
    "\n",
    "df1['promo2_since_week'] = df1.apply( lambda x: x['date'].week if math.isnan( x['promo2_since_week'] ) else x['promo2_since_week'], axis=1 )\n",
    "df1['promo2_since_year'] = df1.apply( lambda x: x['date'].year if math.isnan( x['promo2_since_year'] ) else x['promo2_since_year'], axis=1 )"
   ]
  },
  {
   "cell_type": "code",
   "execution_count": null,
   "id": "91aa6519-2f66-477e-a0d7-5e6127027a0c",
   "metadata": {},
   "outputs": [],
   "source": [
    "df1.isna().sum()"
   ]
  },
  {
   "cell_type": "code",
   "execution_count": null,
   "id": "eb95dff6-ea1d-4a6d-bbf5-4d141bbc9976",
   "metadata": {},
   "outputs": [],
   "source": [
    "# promo_interval: describes the consecutive intervals Promo2 is started, naming the months the promotion is started anew. \n",
    "# E.g. \"Feb,May,Aug,Nov\" means each round starts in February, May, August, November of any given year for that store\n",
    "\n",
    "\n",
    "# Hypothesis:\n",
    "# 1. promo2 == 0\n",
    "\n",
    "# Check hypothesis?\n",
    "# df1.loc[ df1['promo2'] == 0, [ 'promo_interval'] ].isna().sum()\n",
    "# Looks perfect!\n",
    "\n",
    "# Solution #01:\n",
    "# Fill NA with zeros: no promotion interval.\n",
    "\n",
    "df1['promo_interval'].fillna( 0, inplace=True )"
   ]
  },
  {
   "cell_type": "code",
   "execution_count": null,
   "id": "11fe1917-c925-4b49-acde-c477ea52e98f",
   "metadata": {},
   "outputs": [],
   "source": [
    "# CHECKING IF CONTINUING PROMOTION ('promo2') IS HAPPENING IN EACH SALE\n",
    "\n",
    "# promo_interval: describes the consecutive intervals Promo2 is started, naming the months the promotion is started anew. \n",
    "# E.g. \"Feb,May,Aug,Nov\" means each round starts in February, May, August, November of any given year for that store\n",
    "\n",
    "# Map month of each sale.\n",
    "month_map = { 1: 'Jan', 2: 'Feb', 3: 'Mar', 4: 'Apr', 5: 'May', 6: 'Jun', 7: 'Jul', 8: 'Aug', 9: 'Sep', 10: 'Oct', 11: 'Nov', 12: 'Dec' }\n",
    "df1['month_map'] = df1['date'].dt.month.map( month_map )\n",
    "\n",
    "# Define if there is a promo in each sale. Create a new column indicating if a sale is done with or without promotion.\n",
    "df1['is_promo'] = df1[[ 'promo_interval', 'month_map' ]].apply( lambda x: ( 0 if x['promo_interval'] == 0 \n",
    "                                                                            else ( 1 if x['month_map'] in x['promo_interval'].split( ',' ) \n",
    "                                                                                   else 0 ) ), axis=1 )"
   ]
  },
  {
   "cell_type": "code",
   "execution_count": null,
   "id": "82067f43-85aa-4ab7-bfa5-a7e8e4272492",
   "metadata": {},
   "outputs": [],
   "source": [
    "# Check if NAs are gone.\n",
    "df1.isna().sum()"
   ]
  },
  {
   "cell_type": "markdown",
   "id": "bf71bbd8-5852-4eb3-aeea-b8ac58f979b2",
   "metadata": {
    "tags": []
   },
   "source": [
    "## 1.6 Change types"
   ]
  },
  {
   "cell_type": "markdown",
   "id": "319d1325-ed70-45f0-923a-9e5b77cfe60a",
   "metadata": {},
   "source": [
    "After dealing with missing values, we can fix every column type properly."
   ]
  },
  {
   "cell_type": "code",
   "execution_count": null,
   "id": "1d00de4d-2c5a-4cf2-ac64-055039e15f1f",
   "metadata": {},
   "outputs": [],
   "source": [
    "df1.dtypes"
   ]
  },
  {
   "cell_type": "code",
   "execution_count": null,
   "id": "c8351c47-2e98-4875-b4b7-6c40aabea15a",
   "metadata": {},
   "outputs": [],
   "source": [
    "# Reassign week, month and year columns as integers.\n",
    "df1['competition_open_since_month'] = df1['competition_open_since_month'].astype( int )\n",
    "df1['competition_open_since_year']  = df1['competition_open_since_year'].astype( int )\n",
    "df1['promo2_since_week']            = df1['promo2_since_week'].astype( int )\n",
    "df1['promo2_since_year']            = df1['promo2_since_year'].astype( int )"
   ]
  },
  {
   "cell_type": "code",
   "execution_count": null,
   "id": "5f14f9f0-2863-4695-b341-e2a52c53d7ac",
   "metadata": {},
   "outputs": [],
   "source": [
    "df1.dtypes"
   ]
  },
  {
   "cell_type": "markdown",
   "id": "4af8ab85-e978-4af1-a78e-142a1a15e911",
   "metadata": {},
   "source": [
    "## 1.7 Descriptive Statistical Analysis"
   ]
  },
  {
   "cell_type": "markdown",
   "id": "e97e402e-ceaa-4b03-aecd-41e6b1d3bd5c",
   "metadata": {},
   "source": [
    "Métricas de: \n",
    "- Tendência central\n",
    "- Dispersão"
   ]
  },
  {
   "cell_type": "markdown",
   "id": "b668ff70-f913-4b68-8cf4-f5ceac156090",
   "metadata": {},
   "source": [
    "Encontrar erros grotescos"
   ]
  },
  {
   "cell_type": "code",
   "execution_count": null,
   "id": "9fe271ea-182e-4f64-9305-5d8745dde63e",
   "metadata": {},
   "outputs": [],
   "source": [
    "num_attributes =  df1.select_dtypes( include=[ 'int32', 'int64', 'float64' ] )\n",
    "cat_attributes =  df1.select_dtypes( exclude=[ 'int32', 'int64', 'float64', 'datetime64[ns]' ] )\n"
   ]
  },
  {
   "cell_type": "code",
   "execution_count": null,
   "id": "a2289b84-95ba-4251-a2cd-ecb292a057de",
   "metadata": {},
   "outputs": [],
   "source": [
    "cat_attributes.sample(3)"
   ]
  },
  {
   "cell_type": "markdown",
   "id": "958c95d5-d5e4-4123-976d-c996c12692be",
   "metadata": {},
   "source": [
    "### 1.7.1 Numerical Attributes"
   ]
  },
  {
   "cell_type": "code",
   "execution_count": null,
   "id": "5e0a5b99-23a3-4283-bdd3-1c2944166e1c",
   "metadata": {},
   "outputs": [],
   "source": [
    "# Central Tendency - mean, median\n",
    "ct1 = pd.DataFrame( num_attributes.apply( np.mean ) ).T\n",
    "ct2 = pd.DataFrame( num_attributes.apply( np.median ) ).T\n",
    "\n",
    "# Dispersion - std, min, max, range, skew, kurtosis\n",
    "d1 = pd.DataFrame( num_attributes.apply( np.std ) ).T\n",
    "d2 = pd.DataFrame( num_attributes.apply( min ) ).T\n",
    "d3 = pd.DataFrame( num_attributes.apply( max ) ).T\n",
    "d4 = pd.DataFrame( num_attributes.apply( lambda x: x.max() - x.min() ) ).T\n",
    "d5 = pd.DataFrame( num_attributes.apply( lambda x: x.skew() ) ).T\n",
    "d6 = pd.DataFrame( num_attributes.apply( lambda x: x.kurtosis() ) ).T\n",
    "\n",
    "m = pd.concat( [ d2, d3, d4, ct1, ct2, d1, d5, d6 ] ).T.reset_index()\n",
    "m.columns = [ 'attributes', 'min', 'max', 'range', 'mean', 'median', 'std', 'skew', 'kurtosis' ]\n",
    "m"
   ]
  },
  {
   "cell_type": "code",
   "execution_count": null,
   "id": "3b2c395d-db9c-4fd1-8d85-b40063650086",
   "metadata": {},
   "outputs": [],
   "source": [
    "sns.distplot( df1['sales'] )"
   ]
  },
  {
   "cell_type": "markdown",
   "id": "ba1fd1ad-92d4-420d-a873-bf7cd38b9265",
   "metadata": {},
   "source": [
    "### 1.7.2 Categorical Attributes"
   ]
  },
  {
   "cell_type": "code",
   "execution_count": null,
   "id": "7a429dab-a0e5-4a5e-91ea-e03fbc286d92",
   "metadata": {},
   "outputs": [],
   "source": [
    "cat_attributes.apply( lambda x: x.unique().shape[0] )"
   ]
  },
  {
   "cell_type": "code",
   "execution_count": null,
   "id": "824f5ea2-ebb6-4493-82fc-04081bf6a9e8",
   "metadata": {},
   "outputs": [],
   "source": [
    "aux1 = df1[ ( df1['state_holiday'] != '0' ) & ( df1['sales'] != 0) ]\n",
    "\n",
    "\n",
    "# Plotting boxplot\n",
    "fig, axes = plt.subplots(1, 3, figsize=(12, 5), gridspec_kw={'wspace': 0.5})\n",
    "\n",
    "plt.subplot( 1, 3, 1 )\n",
    "sns.boxplot( x='state_holiday', y='sales', data=aux1 )\n",
    "\n",
    "plt.subplot( 1, 3, 2 )\n",
    "sns.boxplot( x='store_type', y='sales', data=aux1 )\n",
    "\n",
    "plt.subplot( 1, 3, 3 )\n",
    "sns.boxplot( x='assortment', y='sales', data=aux1 )\n",
    "\n",
    "plt.show()"
   ]
  },
  {
   "cell_type": "markdown",
   "id": "abdedd52-98a7-4197-b66b-2551f9a4d654",
   "metadata": {
    "jp-MarkdownHeadingCollapsed": true,
    "tags": []
   },
   "source": [
    "# 2 FEATURE ENGINEERING"
   ]
  },
  {
   "cell_type": "markdown",
   "id": "842f23d2-b8e5-40da-ba81-b31284fe1074",
   "metadata": {},
   "source": [
    "CRISP-DS: DATA CLEANING"
   ]
  },
  {
   "cell_type": "markdown",
   "id": "fe02ec14-5fc0-428c-ada3-fea875826d53",
   "metadata": {},
   "source": [
    "Making new Features here. But first, copy dataframe."
   ]
  },
  {
   "cell_type": "code",
   "execution_count": null,
   "id": "b497c4c1-8c5b-4321-9d88-881f187db382",
   "metadata": {},
   "outputs": [],
   "source": [
    "df2 = df1.copy()"
   ]
  },
  {
   "cell_type": "markdown",
   "id": "5b0ae988-6500-4c8e-8315-8018b2796f39",
   "metadata": {},
   "source": [
    "Why do it now?"
   ]
  },
  {
   "cell_type": "markdown",
   "id": "28dfcea3-87fa-4ebb-bce7-aa82afcf5c4f",
   "metadata": {
    "jp-MarkdownHeadingCollapsed": true,
    "tags": []
   },
   "source": [
    "## 2.0 Hypothesis Mindmap"
   ]
  },
  {
   "cell_type": "markdown",
   "id": "f344d3c8-c3a1-4e31-9968-2139833166a9",
   "metadata": {},
   "source": [
    "MINDMAP DE HIPÓTESES\n",
    "- qual fenômeno estou modelando? Daily Store Sales\n",
    "- quem são os agentes atuantes sobre o fenômeno\n",
    "- qual a descrição dos agentes?\n",
    "- Validação ou não das hipóteses: surpresa ou quebra de crença"
   ]
  },
  {
   "cell_type": "code",
   "execution_count": null,
   "id": "96a9c4d8-8a25-4c0e-830a-cfcf7318e85a",
   "metadata": {},
   "outputs": [],
   "source": [
    "# This should come from BUSINESS UNDERSTANDING and will help now\n",
    "Image( 'img/mindmap_hipothesis.png' )"
   ]
  },
  {
   "cell_type": "markdown",
   "id": "45793522-3988-427f-a107-5909d33fd4c1",
   "metadata": {},
   "source": [
    "HIPÓTESES SÃO APOSTAS:\n",
    "\n",
    "LOJAS MAIORES - MAIS VENDA\n",
    "\n",
    "MAIOR VARIEDADE - MAIS VENDA\n",
    "\n",
    "COMPETIDORES MAIS PERTO - MENOS VENDA"
   ]
  },
  {
   "cell_type": "markdown",
   "id": "6ebcd8e4-a2d9-4aad-b484-4b635823831d",
   "metadata": {
    "jp-MarkdownHeadingCollapsed": true,
    "tags": []
   },
   "source": [
    "## 2.1 Hypothesis Creation"
   ]
  },
  {
   "cell_type": "markdown",
   "id": "37c13c38-8dff-4a75-a48f-1f8c3a987f83",
   "metadata": {},
   "source": [
    "### 2.1.1 Store hypothesys"
   ]
  },
  {
   "cell_type": "markdown",
   "id": "146e3c80-7487-467a-a363-970e0ae5899e",
   "metadata": {},
   "source": [
    "**1.** Mais funcionários - mais vendas\n",
    "\n",
    "**2.** Mais estoque - mais venda\n",
    "\n",
    "**3.** Maior porte - maior venda\n",
    "\n",
    "**4.** Maior variedade - maior venda\n",
    "\n",
    "**5.** Competidores mais próximos - menos venda\n",
    "\n",
    "**6.** Competidores há mais tempo - mais venda"
   ]
  },
  {
   "cell_type": "code",
   "execution_count": null,
   "id": "34a019f9-cbd5-479e-9835-00f55211df2f",
   "metadata": {},
   "outputs": [],
   "source": []
  },
  {
   "cell_type": "markdown",
   "id": "1e5c7ac8-ef7a-4b88-b10b-79dd5d5ab527",
   "metadata": {},
   "source": [
    "### 2.1.2 Product hypothesis"
   ]
  },
  {
   "cell_type": "markdown",
   "id": "85b1442c-1e64-4577-bb41-686d687452ff",
   "metadata": {},
   "source": [
    "**1.** Mais marketing - mais venda\n",
    "\n",
    "**2.** Mais exposição - mais venda\n",
    "\n",
    "**3.** Preço menor - mais venda\n",
    "\n",
    "**4.** Promoção maior / mais desconto - maior venda\n",
    "\n",
    "**5.** Promoções mais longas - maior venda\n",
    "\n",
    "**6.** Mais dias totais de promoção - mais venda\n",
    "\n",
    "**7.** Promoções consecutivas - mais venda"
   ]
  },
  {
   "cell_type": "code",
   "execution_count": null,
   "id": "6d641928-e97b-444f-a0eb-4f4259ee1373",
   "metadata": {},
   "outputs": [],
   "source": []
  },
  {
   "cell_type": "markdown",
   "id": "c86e1b82-0b6d-40f2-b2ee-751f3a171244",
   "metadata": {},
   "source": [
    "### 2.1.3 Seasonality hypothesis"
   ]
  },
  {
   "cell_type": "markdown",
   "id": "ace78fbc-614a-49c5-9e90-e59a3bbd5540",
   "metadata": {},
   "source": [
    "**1.** Lojas abertas no natal - mais venda\n",
    "\n",
    "**2.** Loja vende mais ao longo dos anos\n",
    "\n",
    "**3.** Mais venda no segundo semestre\n",
    "\n",
    "**4.** Vender mais depois do dia 10 de cada mês\n",
    "\n",
    "**5.** Vender menos no fim de semana\n",
    "\n",
    "**6.** Vender menos nos feriados escolares"
   ]
  },
  {
   "cell_type": "code",
   "execution_count": null,
   "id": "6e062849-052d-488f-8ce7-a21ac9e7ebf8",
   "metadata": {},
   "outputs": [],
   "source": []
  },
  {
   "cell_type": "markdown",
   "id": "a2e55f74-baa4-489f-a778-2ccfaa65d510",
   "metadata": {
    "jp-MarkdownHeadingCollapsed": true,
    "tags": []
   },
   "source": [
    "## 2.2 Final list of Hypothesis"
   ]
  },
  {
   "cell_type": "markdown",
   "id": "7d35feaf-e93e-4804-ae57-c07ffcdd1dec",
   "metadata": {},
   "source": [
    "PRODUTOS\n",
    "\n",
    "**4.** Maior variedade - maior venda\n",
    "\n",
    "**5.** Competidores mais próximos - menos venda\n",
    "\n",
    "**6.** Competidores mais recentes - menos venda"
   ]
  },
  {
   "cell_type": "code",
   "execution_count": null,
   "id": "8124694d-f571-452f-8be3-1d653690d8c8",
   "metadata": {},
   "outputs": [],
   "source": []
  },
  {
   "cell_type": "markdown",
   "id": "0afef5e0-abf2-4d37-a3d8-1bb0979246fc",
   "metadata": {},
   "source": [
    "LOJAS\n",
    "\n",
    "**5.** Promoções recorrentes há mais anos - maior venda\n",
    "\n",
    "**6.** Mais dias totais de promoção - mais venda\n",
    "\n",
    "**7.** Promoções consecutivas - mais venda"
   ]
  },
  {
   "cell_type": "code",
   "execution_count": null,
   "id": "634f5074-b07c-4aaf-826d-b5d0a4aecf94",
   "metadata": {},
   "outputs": [],
   "source": []
  },
  {
   "cell_type": "markdown",
   "id": "6be034f1-7753-471a-91c4-e34986e64d38",
   "metadata": {},
   "source": [
    "SAZONALIDADE\n",
    "\n",
    "**1.** Lojas abertas no natal - mais venda\n",
    "\n",
    "**2.** Loja vende mais ao longo dos anos\n",
    "\n",
    "**3.** Mais venda no segundo semestre (foco em dezembro)\n",
    "\n",
    "**4.** Vender mais nos 10 primeiros dias de cada mês (salário recebido)\n",
    "\n",
    "**5.** Vender menos no fim de semana\n",
    "\n",
    "**6.** Vender menos nos feriados escolares"
   ]
  },
  {
   "cell_type": "code",
   "execution_count": null,
   "id": "7434b445-793f-4a62-a2f6-6e0756e0ba35",
   "metadata": {},
   "outputs": [],
   "source": []
  },
  {
   "cell_type": "markdown",
   "id": "7ff9ae02-12a3-4421-a911-410c6df65f08",
   "metadata": {
    "jp-MarkdownHeadingCollapsed": true,
    "tags": []
   },
   "source": [
    "## 2.3 Feature Engineering"
   ]
  },
  {
   "cell_type": "code",
   "execution_count": null,
   "id": "495a4582-2fbb-4f87-99b5-bf3fe2208e0e",
   "metadata": {},
   "outputs": [],
   "source": [
    "# year\n",
    "df2['year'] = df2['date'].dt.year\n",
    "\n",
    "# month\n",
    "df2['month'] = df2['date'].dt.month\n",
    "\n",
    "# day\n",
    "df2['day'] = df2['date'].dt.day\n",
    "\n",
    "# week_of_year\n",
    "df2['week_of_year'] = df2['date'].dt.isocalendar().week.astype( int )\n",
    "\n",
    "\n",
    "# year_week\n",
    "df2['year_week'] = df2['date'].dt.strftime( '%Y-%W' )\n",
    "\n",
    "\n",
    "\n",
    "# competition_since\n",
    "df2['competition_since'] = df2.apply( lambda x: datetime.datetime( year=x['competition_open_since_year'], month=x['competition_open_since_month'], day=1 ), axis=1 )\n",
    "df2['competition_time_in_months'] = ( ( df2['date'] - df2['competition_since'] ) / 30 ).apply( lambda x: x.days ).astype( 'int64' )\n",
    "\n",
    "\n",
    "# promo_since\n",
    "df2['promo_since'] = df2['promo2_since_year'].astype( str ) + '-' + df2['promo2_since_week'].astype( str )\n",
    "# \"%Y-%W-%w has week 1 as the week after the year's first sunday.\n",
    "df2['promo_since'] = df2['promo_since'].apply( lambda x: datetime.datetime.strptime( x + '-1', \"%Y-%W-%w\" ) - datetime.timedelta( days=7 ) )\n",
    "df2['promo_time_week'] = ( ( df2['date'] - df2['promo_since'] ) / 7 ).apply( lambda x: x.days ).astype( 'int64' )\n",
    "\n",
    "\n",
    "# assortment\n",
    "df2['assortment'] = df2['assortment'].apply( lambda x: 'basic' if x == 'a' else 'extra' if x == 'b' else 'extended' )\n",
    "\n",
    "# state_holiday\n",
    "df2['state_holiday'] = df2['state_holiday'].apply( lambda x: 'public_holiday' if x == 'a' else 'easter_holiday' if x == 'b' else 'christmas' if x == 'c' else 'regular_day' )"
   ]
  },
  {
   "cell_type": "code",
   "execution_count": null,
   "id": "18998ef2-81cd-4b64-8591-c9646a2f18d7",
   "metadata": {},
   "outputs": [],
   "source": [
    "df2.dtypes"
   ]
  },
  {
   "cell_type": "code",
   "execution_count": null,
   "id": "b7e1ec66-f529-4aa8-b6c6-aaa97856f682",
   "metadata": {},
   "outputs": [],
   "source": [
    "df2.sample(5).T"
   ]
  },
  {
   "cell_type": "markdown",
   "id": "00785d18-4457-4460-ae78-e22ce33fcc01",
   "metadata": {
    "jp-MarkdownHeadingCollapsed": true,
    "tags": []
   },
   "source": [
    "# 3 FILTRAGEM DE VARIÁVEIS"
   ]
  },
  {
   "cell_type": "markdown",
   "id": "99d8c8be-7a98-40f3-8727-fe42b8092f62",
   "metadata": {},
   "source": [
    "CRISP-DS: DATA CLEANING"
   ]
  },
  {
   "cell_type": "code",
   "execution_count": null,
   "id": "6e02a4d2-dd6b-42a7-b8c1-b926310636de",
   "metadata": {},
   "outputs": [],
   "source": [
    "df3 = df2.copy()"
   ]
  },
  {
   "cell_type": "markdown",
   "id": "6e4985f6-2e99-4f44-aa02-a31da9d8f73c",
   "metadata": {},
   "source": [
    "FILTRAGEM DE VARIÁVEIS\n",
    "\n",
    "- Restrições do negócio"
   ]
  },
  {
   "cell_type": "markdown",
   "id": "d898eeef-711d-4e39-9007-661af8209153",
   "metadata": {},
   "source": [
    "SELEÇÃO DE VARIÁVEIS \n",
    "- Variáveis mais relevantes para o MODELO"
   ]
  },
  {
   "cell_type": "code",
   "execution_count": null,
   "id": "829680b4-6b5a-4744-99e2-5d80fc8ae1b4",
   "metadata": {},
   "outputs": [],
   "source": [
    "df3.head().T"
   ]
  },
  {
   "cell_type": "markdown",
   "id": "99886923-35c1-4298-9deb-11fe2d73d87d",
   "metadata": {},
   "source": [
    "## 3.1 Filtragem das linhas"
   ]
  },
  {
   "cell_type": "code",
   "execution_count": null,
   "id": "3425fc6c-e100-4261-8df9-59fba0cd9141",
   "metadata": {},
   "outputs": [],
   "source": [
    "df3 = df3[ ( df3['open'] != 0 ) & ( df3['sales'] > 0 ) ]"
   ]
  },
  {
   "cell_type": "code",
   "execution_count": null,
   "id": "e8cc2310-e1be-40c0-971e-6aa61a47ba55",
   "metadata": {},
   "outputs": [],
   "source": [
    "# Exemplo de restrição: certa categoria tem 80% das vendas, beleza e cosméticos. Faz-se uma análise usando só esta categoria."
   ]
  },
  {
   "cell_type": "code",
   "execution_count": null,
   "id": "db402b8c-7f2e-4fd1-9063-8c74493975cc",
   "metadata": {},
   "outputs": [],
   "source": []
  },
  {
   "cell_type": "code",
   "execution_count": null,
   "id": "deda9557-ab9a-4468-8696-fba598d0f1d1",
   "metadata": {},
   "outputs": [],
   "source": []
  },
  {
   "cell_type": "markdown",
   "id": "829c1640-5f54-4e86-9f87-563e278bfcbf",
   "metadata": {},
   "source": [
    "## 3.2 Seleção das colunas"
   ]
  },
  {
   "cell_type": "code",
   "execution_count": null,
   "id": "1de60eae-778f-4967-9996-e9b212bf9e3c",
   "metadata": {},
   "outputs": [],
   "source": [
    "# Deletando 'open' porque só tem valor == 1,\n",
    "# Deletando 'promo_interval' e 'month_map' porque já foram usada para criar 'is_promo',\n",
    "# Deletando 'customers' porque não teremos informação de quantos clientes teremos.\n",
    "# Assim como 'customers', checar outras colunas que não existem em test.csv\n",
    "cols_drop = [ 'customers', 'open', 'promo_interval', 'month_map' ]\n",
    "df3 = df3.drop( cols_drop, axis=1 )"
   ]
  },
  {
   "cell_type": "code",
   "execution_count": null,
   "id": "7f237f16-d2f3-49e7-b614-b88e3b46372c",
   "metadata": {},
   "outputs": [],
   "source": [
    "df3.columns"
   ]
  },
  {
   "cell_type": "code",
   "execution_count": null,
   "id": "7a45c990-de28-49a9-b20c-34606341ecac",
   "metadata": {},
   "outputs": [],
   "source": []
  },
  {
   "cell_type": "markdown",
   "id": "fb5c38a7-3ee2-4aed-b091-c44a4c4f4d8f",
   "metadata": {
    "jp-MarkdownHeadingCollapsed": true,
    "tags": []
   },
   "source": [
    "# 4 EXPLORATORY DATA ANALYSIS - EDA"
   ]
  },
  {
   "cell_type": "markdown",
   "id": "32a0abf5-bb08-403a-8a7b-958c21441b7a",
   "metadata": {},
   "source": [
    "CRISP-DS: EDA"
   ]
  },
  {
   "cell_type": "code",
   "execution_count": null,
   "id": "d0bfe11c-a290-47e0-804f-7249d8dae807",
   "metadata": {},
   "outputs": [],
   "source": [
    "df4 = df3.copy()"
   ]
  },
  {
   "cell_type": "markdown",
   "id": "6c5daaaa-f730-4612-a91a-4cc5842d24e3",
   "metadata": {},
   "source": [
    "OBJETIVOS:\n",
    "\n",
    "1 - Ganhar experiência de negócio;\n",
    "\n",
    "2 - Validar/Contrapor hipóteses de negócio (insights);\n",
    "\n",
    "3 - Perceber variáveis que são importantes para o modelo."
   ]
  },
  {
   "cell_type": "markdown",
   "id": "9a77aaac-ed39-4fb6-bac9-dece50e4b072",
   "metadata": {
    "jp-MarkdownHeadingCollapsed": true,
    "tags": []
   },
   "source": [
    "## 4.1 Univariate Analysis"
   ]
  },
  {
   "cell_type": "markdown",
   "id": "251c4747-6ae7-4ebd-bfa4-99cfdcb6f6b8",
   "metadata": {},
   "source": [
    "Como é a cara dessa variável? min, max, range, distribuição..."
   ]
  },
  {
   "cell_type": "markdown",
   "id": "250f5dd8-7e46-41c0-889f-36446f5738a4",
   "metadata": {
    "jp-MarkdownHeadingCollapsed": true,
    "tags": []
   },
   "source": [
    "### 4.1.1 Response Variable"
   ]
  },
  {
   "cell_type": "code",
   "execution_count": null,
   "id": "d5e7d8b0-7836-4b12-96ae-7f3dc7e1b4a9",
   "metadata": {},
   "outputs": [],
   "source": [
    "sns.histplot( df4['sales'] )"
   ]
  },
  {
   "cell_type": "code",
   "execution_count": null,
   "id": "4c405f6f-7114-402d-b9b9-3793997f093c",
   "metadata": {},
   "outputs": [],
   "source": [
    "print( min( df4['sales'] ) )\n",
    "print( max( df4['sales'] ) )\n",
    "print( df4['sales'].mean() )\n",
    "print( df4['sales'].median() )"
   ]
  },
  {
   "cell_type": "markdown",
   "id": "903a7eee-b39a-4cc5-8158-80b7bb749346",
   "metadata": {
    "jp-MarkdownHeadingCollapsed": true,
    "tags": []
   },
   "source": [
    "### 4.1.2 Numerical Variable"
   ]
  },
  {
   "cell_type": "code",
   "execution_count": null,
   "id": "72958c34-db12-4d2c-9555-7b4514927ba4",
   "metadata": {},
   "outputs": [],
   "source": [
    "num_attributes.hist( bins=20 );"
   ]
  },
  {
   "cell_type": "markdown",
   "id": "2e1434e7-20f9-4159-b493-39c4b4d839de",
   "metadata": {},
   "source": [
    "### 4.1.3 Categorical Variable"
   ]
  },
  {
   "cell_type": "code",
   "execution_count": null,
   "id": "20409c19-e346-4bc0-9b50-511d99f42d62",
   "metadata": {},
   "outputs": [],
   "source": [
    "df4['state_holiday'].unique()"
   ]
  },
  {
   "cell_type": "code",
   "execution_count": null,
   "id": "09b18fef-4ec0-4022-b592-b7b2a05c974d",
   "metadata": {},
   "outputs": [],
   "source": [
    "df4['store_type'].unique()"
   ]
  },
  {
   "cell_type": "code",
   "execution_count": null,
   "id": "6c2bfc0b-855f-458c-a59d-187b3f1f336b",
   "metadata": {},
   "outputs": [],
   "source": [
    "df4['assortment'].unique()"
   ]
  },
  {
   "cell_type": "code",
   "execution_count": null,
   "id": "d79642ee-4b0c-450c-a785-a66bff509578",
   "metadata": {},
   "outputs": [],
   "source": [
    "# Configuração da figura com espaçamento vertical ajustável\n",
    "fig, axes = plt.subplots(3, 2, figsize=(12, 15), gridspec_kw={'height_ratios': [1, 1, 1]})\n",
    "\n",
    "# Gráfico 1\n",
    "a = df4[df4['state_holiday'] != 'regular_day']\n",
    "sns.countplot(x='state_holiday', data=a, ax=axes[0, 0])\n",
    "\n",
    "# Gráfico 2\n",
    "sns.kdeplot(df4[df4['state_holiday'] == 'public_holiday']['sales'], label='public_holiday', fill=True, ax=axes[0, 1])\n",
    "sns.kdeplot(df4[df4['state_holiday'] == 'easter_holiday']['sales'], label='easter_holiday', fill=True, ax=axes[0, 1])\n",
    "sns.kdeplot(df4[df4['state_holiday'] == 'christmas']['sales'], label='christmas', fill=True, ax=axes[0, 1])\n",
    "\n",
    "# Gráfico 3\n",
    "sns.countplot(x='store_type', data=df4, ax=axes[1, 0])\n",
    "\n",
    "# Gráfico 4\n",
    "sns.kdeplot(df4[df4['store_type'] == 'a']['sales'], label='a', fill=True, ax=axes[1, 1])\n",
    "sns.kdeplot(df4[df4['store_type'] == 'b']['sales'], label='b', fill=True, ax=axes[1, 1])\n",
    "sns.kdeplot(df4[df4['store_type'] == 'c']['sales'], label='c', fill=True, ax=axes[1, 1])\n",
    "sns.kdeplot(df4[df4['store_type'] == 'd']['sales'], label='d', fill=True, ax=axes[1, 1])\n",
    "\n",
    "# Gráfico 5\n",
    "sns.countplot(x='assortment', data=df4, ax=axes[2, 0])\n",
    "\n",
    "# Gráfico 6\n",
    "sns.kdeplot(df4[df4['assortment'] == 'basic']['sales'], label='basic', fill=True, ax=axes[2, 1])\n",
    "sns.kdeplot(df4[df4['assortment'] == 'extended']['sales'], label='extended', fill=True, ax=axes[2, 1])\n",
    "sns.kdeplot(df4[df4['assortment'] == 'extra']['sales'], label='extra', fill=True, ax=axes[2, 1])\n",
    "\n",
    "# Ajuste do layout\n",
    "plt.tight_layout()\n",
    "plt.show()"
   ]
  },
  {
   "cell_type": "markdown",
   "id": "861e9a7d-e766-4b26-ae50-73c5802b6bc2",
   "metadata": {
    "jp-MarkdownHeadingCollapsed": true,
    "tags": []
   },
   "source": [
    "## 4.2 Bivariada"
   ]
  },
  {
   "cell_type": "markdown",
   "id": "6c6d5d26-4139-46f4-8f04-8730dc82cd9f",
   "metadata": {},
   "source": [
    "Como certa variável impacta a variável resposta? Correlação, validação das hipóteses..."
   ]
  },
  {
   "cell_type": "markdown",
   "id": "538615fd-51f7-41d0-b8b8-484e5d6e83ae",
   "metadata": {
    "jp-MarkdownHeadingCollapsed": true,
    "tags": []
   },
   "source": [
    "#### H1: Maior variedade - maior venda\n",
    "**VERDADEIRA** Lojas 'extra' e 'extended' vendem mais que a 'basic', MAS tem bem menos lojas com maior variedade."
   ]
  },
  {
   "cell_type": "code",
   "execution_count": null,
   "id": "dcd9238a-9ed7-4695-8726-fbeccb7ceb14",
   "metadata": {},
   "outputs": [],
   "source": [
    "plt.rcParams['figure.figsize'] = [13, 5]\n",
    "\n",
    "aux1 = df4[ [ 'assortment', 'sales' ] ].groupby( 'assortment' ).mean().reset_index()\n",
    "sns.barplot( x='assortment', y='sales', data=aux1 );\n",
    "\n",
    "# assumindo que o 'extra' é o com maior variedade de produtos\n",
    "\n",
    "\n",
    "aux2 = df4[ [ 'year_week', 'assortment', 'sales' ] ].groupby( [ 'year_week', 'assortment' ] ).mean().reset_index()\n",
    "aux3 = aux2.pivot( index='year_week', columns='assortment', values='sales' )\n",
    "aux3.plot()"
   ]
  },
  {
   "cell_type": "markdown",
   "id": "7d50378c-3179-45a7-b74a-cffedda90ced",
   "metadata": {
    "jp-MarkdownHeadingCollapsed": true,
    "tags": []
   },
   "source": [
    "#### H2: Competidores mais próximos - menos venda\n",
    "**FALSA** Não há correlação aparente."
   ]
  },
  {
   "cell_type": "code",
   "execution_count": null,
   "id": "0af45689-f617-424c-a9b1-501bfb4b8d0d",
   "metadata": {},
   "outputs": [],
   "source": [
    "plt.rcParams['figure.figsize'] = [13, 15]\n",
    "\n",
    "aux1 = df4[ [ 'competition_distance', 'sales' ] ].groupby( 'competition_distance' ).mean().reset_index()\n",
    "\n",
    "plt.subplot( 3, 1, 1 )\n",
    "sns.scatterplot( x='competition_distance', y='sales', data=aux1 )\n",
    "\n",
    "plt.subplot( 3, 1, 2 )\n",
    "bins = list( np.arange( 0, 20000, 2000 ) )\n",
    "aux2 = aux1\n",
    "aux2[ 'competition_distance_binned' ] = pd.cut( aux2['competition_distance'], bins=bins )\n",
    "aux2 = aux2[ [ 'competition_distance_binned', 'sales' ] ].groupby( 'competition_distance_binned' ).mean().reset_index()\n",
    "sns.barplot( x='competition_distance_binned', y='sales', data=aux2 );\n",
    "# plt.xticks( rotation=90 )\n",
    "\n",
    "plt.subplot( 3, 1, 3 )\n",
    "aux1 = df4[ [ 'competition_distance', 'sales' ] ].groupby( 'competition_distance' ).mean().reset_index()\n",
    "sns.heatmap( aux1.corr( method='pearson' ), annot=True )"
   ]
  },
  {
   "cell_type": "markdown",
   "id": "80fb70f9-33c1-46b7-baa3-247c9d7776c5",
   "metadata": {
    "jp-MarkdownHeadingCollapsed": true,
    "tags": []
   },
   "source": [
    "#### H3: Competidores há menos tempo - menos\n",
    "**FALSA** Vende mais quanto mais recente a competição."
   ]
  },
  {
   "cell_type": "code",
   "execution_count": null,
   "id": "a9ee8615-3de0-40e2-999f-91c8de6e2158",
   "metadata": {},
   "outputs": [],
   "source": [
    "plt.rcParams['figure.figsize'] = [13, 15]\n",
    "\n",
    "plt.subplot( 3, 1, 1 )\n",
    "aux1 = df4[ [ 'competition_time_in_months', 'sales' ] ].groupby('competition_time_in_months').sum().reset_index()\n",
    "aux2 = aux1[ ( aux1['competition_time_in_months'] < 150 ) & ( aux1['competition_time_in_months'] > 0 ) ]\n",
    "sns.barplot( x='competition_time_in_months', y='sales', data=aux2 );\n",
    "\n",
    "plt.subplot( 3, 1, 2 )\n",
    "sns.regplot( x='competition_time_in_months', y='sales', data=aux2 )\n",
    "\n",
    "plt.subplot( 3, 1, 3 )\n",
    "sns.heatmap( aux2.corr( method='pearson' ), annot=True )"
   ]
  },
  {
   "cell_type": "code",
   "execution_count": null,
   "id": "2b7da55d-3a6a-4383-a22a-775af6048287",
   "metadata": {},
   "outputs": [],
   "source": []
  },
  {
   "cell_type": "markdown",
   "id": "adfbc76e-d5a0-493c-99e4-74aef8a57aeb",
   "metadata": {
    "jp-MarkdownHeadingCollapsed": true,
    "tags": []
   },
   "source": [
    "### H4: Promoções recorrentes há mais anos - maior venda\n",
    "**FALSA** Nos primeiros anos, temos um crescimento ínfimo nas vendas e depois elas caem drasticamente."
   ]
  },
  {
   "cell_type": "code",
   "execution_count": null,
   "id": "33d0d974-7d36-4ab2-abd0-6da60a18f111",
   "metadata": {},
   "outputs": [],
   "source": [
    "plt.rcParams['figure.figsize'] = [13, 5]\n",
    "\n",
    "# aux0 = df4[ df4['is_promo'] == 1 ]\n",
    "aux0 = df4\n",
    "aux1 = aux0[ [ 'promo_time_week', 'sales' ] ].groupby('promo_time_week').sum().reset_index()\n",
    "\n",
    "bins = list( np.arange( -156, 520, 52 ) )\n",
    "aux2 = aux1[ aux1['promo_time_week'] > 0 ]\n",
    "aux2[ 'promo_time_week_binned' ] = pd.cut( aux2['promo_time_week'], bins=bins )\n",
    "aux2 = aux2[ [ 'promo_time_week_binned', 'sales' ] ].groupby( 'promo_time_week_binned' ).mean().reset_index()\n",
    "sns.barplot( x='promo_time_week_binned', y='sales', data=aux2 );"
   ]
  },
  {
   "cell_type": "code",
   "execution_count": null,
   "id": "62cb4d83-71c9-4662-b884-45e648fdcbd6",
   "metadata": {},
   "outputs": [],
   "source": []
  },
  {
   "cell_type": "markdown",
   "id": "7991891c-a695-4431-80e0-6b930860c07e",
   "metadata": {
    "jp-MarkdownHeadingCollapsed": true,
    "tags": []
   },
   "source": [
    "### <s>H5: Mais dias totais de promoção - mais venda</s>"
   ]
  },
  {
   "cell_type": "code",
   "execution_count": null,
   "id": "13fe4aea-cbb6-4db0-b492-3940f591b5ce",
   "metadata": {},
   "outputs": [],
   "source": [
    "# ON HOLD\n"
   ]
  },
  {
   "cell_type": "markdown",
   "id": "85b6d5de-92be-44d4-abab-a569ebddce9f",
   "metadata": {
    "jp-MarkdownHeadingCollapsed": true,
    "tags": []
   },
   "source": [
    "### H6: Promoções recorrentes - mais venda\n",
    "**FALSA** Lojas com promo2 vendem menos."
   ]
  },
  {
   "cell_type": "code",
   "execution_count": null,
   "id": "f34e86f7-1b89-4e2d-af6a-6800f0860809",
   "metadata": {},
   "outputs": [],
   "source": [
    "df4[ [ 'promo', 'promo2', 'sales' ] ].groupby( [ 'promo', 'promo2' ] ).mean().reset_index()"
   ]
  },
  {
   "cell_type": "code",
   "execution_count": null,
   "id": "da5ae899-dbac-4c12-a59f-3a5d6449d1e2",
   "metadata": {},
   "outputs": [],
   "source": [
    "aux1 = df4[ ( df4['promo'] == 1 ) & ( df4['promo2'] == 1 ) ][ [ 'year_week', 'sales' ] ].groupby('year_week').sum().reset_index()\n",
    "ax = aux1.plot()\n",
    "\n",
    "aux2 = df4[ ( df4['promo'] == 1 ) & ( df4['promo2'] == 0 ) ][ [ 'year_week', 'sales' ] ].groupby('year_week').sum().reset_index()\n",
    "aux2.plot( ax=ax )\n",
    "\n",
    "ax.legend( labels=['Tradicional e Extendida', 'Apenas tradicional'] );"
   ]
  },
  {
   "cell_type": "markdown",
   "id": "f1448f52-fd86-48c7-b804-a0fb8a191218",
   "metadata": {
    "jp-MarkdownHeadingCollapsed": true,
    "tags": []
   },
   "source": [
    "### H7: Lojas abertas nos feriados - mais venda\n",
    "**VERDADEIRA** Realmente vendem mais, aparentemente 10% a mais."
   ]
  },
  {
   "cell_type": "code",
   "execution_count": null,
   "id": "801916c1-d10f-4c29-8d18-f9d6466e09b7",
   "metadata": {},
   "outputs": [],
   "source": [
    "aux1 = df4[ df4['state_holiday'] != 'regular_day' ]\n",
    "aux1 = aux1[ [ 'state_holiday', 'sales' ] ].groupby( 'state_holiday' ).mean().reset_index()\n",
    "sns.barplot( x='state_holiday', y='sales', data=aux1 );"
   ]
  },
  {
   "cell_type": "code",
   "execution_count": null,
   "id": "2f0c05ef-1642-4f4d-8d5d-5a17fe82d4eb",
   "metadata": {},
   "outputs": [],
   "source": []
  },
  {
   "cell_type": "markdown",
   "id": "8761e8d0-073c-41c2-b0f5-a400e459abc5",
   "metadata": {
    "jp-MarkdownHeadingCollapsed": true,
    "tags": []
   },
   "source": [
    "### H8: Loja vende mais ao longo dos anos.\n",
    "**FALSA** Houve uma queda anual. **MAS** houve um crescimento nas vendas nos primeiros semestres **E** uma queda grande no último trimestre.\n",
    "\n",
    "**FOCO** para as vendas do último trimestre de 2015, que vem à frente."
   ]
  },
  {
   "cell_type": "code",
   "execution_count": null,
   "id": "df2b82cf-3de2-42ae-9b5e-87b42c3ddbcb",
   "metadata": {},
   "outputs": [],
   "source": [
    "aux1 = df4[ [ 'year', 'sales' ] ].groupby('year').sum().reset_index()\n",
    "sns.barplot( x='year', y='sales', data=aux1 );"
   ]
  },
  {
   "cell_type": "code",
   "execution_count": null,
   "id": "6032ddd1-0c70-4a8e-8fcd-dd4f29ae0784",
   "metadata": {},
   "outputs": [],
   "source": [
    "aux1 = df4[ df4['month'] <= 6 ]\n",
    "aux1 = aux1[ [ 'year', 'sales' ] ].groupby('year').sum().reset_index()\n",
    "sns.barplot( x='year', y='sales', data=aux1 );"
   ]
  },
  {
   "cell_type": "code",
   "execution_count": null,
   "id": "74e71b1a-5fa9-4b5c-bf14-f9f54087c55e",
   "metadata": {},
   "outputs": [],
   "source": [
    "aux1 = df4[ df4['month'] > 7 ]\n",
    "aux1 = aux1[ [ 'year', 'sales' ] ].groupby('year').sum().reset_index()\n",
    "sns.barplot( x='year', y='sales', data=aux1 );"
   ]
  },
  {
   "cell_type": "markdown",
   "id": "0f22167b-3d37-45fb-a2b1-7c34c37965a2",
   "metadata": {
    "jp-MarkdownHeadingCollapsed": true,
    "tags": []
   },
   "source": [
    "### H9: Mais venda no segundo semestre\n",
    "**VERDADEIRA** Principalmente em Dezembro, as vendas são bem maiores."
   ]
  },
  {
   "cell_type": "code",
   "execution_count": null,
   "id": "34d00c42-908d-43f0-9b0f-1e34512f12b3",
   "metadata": {},
   "outputs": [],
   "source": [
    "aux1 = df4.loc[ df4['year'] != 2015, [ 'month', 'sales' ] ].groupby('month').sum().reset_index()\n",
    "\n",
    "plt.subplot( 1, 2, 1 )\n",
    "sns.barplot( x='month', y='sales', data=aux1 )\n",
    "\n",
    "plt.subplot( 1, 2, 2 )\n",
    "sns.regplot( x='month', y='sales', data=aux1 )"
   ]
  },
  {
   "cell_type": "code",
   "execution_count": null,
   "id": "4f13d0d6-b065-4669-8a3a-65edb99989fd",
   "metadata": {},
   "outputs": [],
   "source": []
  },
  {
   "cell_type": "markdown",
   "id": "6fff267c-718a-4ceb-b11b-1ed683fafa51",
   "metadata": {
    "jp-MarkdownHeadingCollapsed": true,
    "tags": []
   },
   "source": [
    "### H10: Vende-se nos 10 primeiros dias: recebe-se salário.\n",
    "**VERDADEIRA** Dividindo o mês em 3, o primeiro terço é o de maior venda."
   ]
  },
  {
   "cell_type": "code",
   "execution_count": null,
   "id": "9217daa4-a64a-4e26-816d-72cfbc9d0210",
   "metadata": {},
   "outputs": [],
   "source": [
    "aux1 = df4[ [ 'day', 'sales' ] ].groupby('day').sum().reset_index()\n",
    "\n",
    "plt.subplot( 1, 2, 1 )\n",
    "sns.barplot( x='day', y='sales', data=aux1 )\n",
    "\n",
    "\n",
    "plt.subplot( 1, 2, 2 )\n",
    "bins = list( np.arange( 0, 31, 10 ) )\n",
    "aux2 = aux1\n",
    "aux2[ 'days_binned' ] = pd.cut( aux2['day'], bins=bins )\n",
    "aux2 = aux2[ [ 'days_binned', 'sales' ] ].groupby( 'days_binned' ).mean().reset_index()\n",
    "sns.barplot( x='days_binned', y='sales', data=aux2 );"
   ]
  },
  {
   "cell_type": "code",
   "execution_count": null,
   "id": "c23e4af9-b6fd-40d6-adef-b3ccb6692f6d",
   "metadata": {},
   "outputs": [],
   "source": []
  },
  {
   "cell_type": "markdown",
   "id": "f9187c9a-e175-4e98-9bae-2d212c17ab00",
   "metadata": {
    "jp-MarkdownHeadingCollapsed": true,
    "tags": []
   },
   "source": [
    "### H11: Vender menos no fim de semana.\n",
    "**VERDADEIRA** Vendem menos nos dias 6 e 7."
   ]
  },
  {
   "cell_type": "code",
   "execution_count": null,
   "id": "9572320f-383b-4112-9788-91efbce0d92f",
   "metadata": {},
   "outputs": [],
   "source": [
    "aux1 = df4[ [ 'day_of_week', 'sales' ] ].groupby('day_of_week').sum().reset_index()\n",
    "\n",
    "plt.subplot( 1, 2, 1 )\n",
    "sns.barplot( x='day_of_week', y='sales', data=aux1 )\n",
    "\n",
    "plt.subplot( 1, 2, 2 )\n",
    "sns.regplot( x='day_of_week', y='sales', data=aux1 )"
   ]
  },
  {
   "cell_type": "code",
   "execution_count": null,
   "id": "3d71382e-71ed-4c10-ba1f-24631d15620a",
   "metadata": {},
   "outputs": [],
   "source": []
  },
  {
   "cell_type": "markdown",
   "id": "ffc15273-13fd-4d99-b311-87acdb616058",
   "metadata": {
    "jp-MarkdownHeadingCollapsed": true,
    "tags": []
   },
   "source": [
    "### H12: Vender menos nos feriados escolares.\n",
    "**FALSA** Comparando a média de venda em dias com e sem aula, os sem aula levam vantagem."
   ]
  },
  {
   "cell_type": "code",
   "execution_count": null,
   "id": "1ad3b96e-82df-4bfa-a5c1-ef9ade4b49de",
   "metadata": {},
   "outputs": [],
   "source": [
    "aux1 = df4[ [ 'school_holiday', 'sales' ] ].groupby('school_holiday').mean().reset_index()\n",
    "\n",
    "plt.subplot( 1, 2, 1 )\n",
    "sns.barplot( x='school_holiday', y='sales', data=aux1 )"
   ]
  },
  {
   "cell_type": "markdown",
   "id": "52277be5-f005-408c-9a65-7df87eaa3b7e",
   "metadata": {
    "jp-MarkdownHeadingCollapsed": true,
    "tags": []
   },
   "source": [
    "### 4.2.1 Hipothesis Summary"
   ]
  },
  {
   "cell_type": "code",
   "execution_count": null,
   "id": "dace3a7d-27f8-414b-8eef-790d4d3b2eb2",
   "metadata": {},
   "outputs": [],
   "source": [
    "tab = [ [ 'Hypothesis', 'Conclusion', 'Relevance' ],\n",
    "        [ 'H1 - assortment', 'True', 'Low' ],\n",
    "        [ 'H2 - competitors_distance', 'False', 'Medium' ],\n",
    "        [ 'H3 - competitors_since', 'False', 'Medium' ],\n",
    "        [ 'H4 - promo_time_week', 'False', 'Low' ],\n",
    "        [ 'H5 - ', '-', '-' ],\n",
    "        [ 'H6 - promo2', 'False', 'High' ],\n",
    "        [ 'H7 - state_holiday', 'True', 'Low' ],\n",
    "        [ 'H8 - year', 'False', 'High' ],\n",
    "        [ 'H9 - month', 'True', 'High' ],\n",
    "        [ 'H10 - day', 'True', 'Medium' ],\n",
    "        [ 'H11 - day_of_week', 'True', 'High' ],\n",
    "        [ 'H12 - school_holiday', 'False', 'Low' ],\n",
    "      ]\n",
    "\n",
    "hypothesis_summary = tabulate( tab, headers='firstrow' )\n",
    "print( hypothesis_summary )"
   ]
  },
  {
   "cell_type": "markdown",
   "id": "d3f56e03-94b2-4896-a706-15a12fce556e",
   "metadata": {
    "jp-MarkdownHeadingCollapsed": true,
    "tags": []
   },
   "source": [
    "## 4.3 Multivariada"
   ]
  },
  {
   "cell_type": "markdown",
   "id": "d9609828-625f-4c7c-a543-6f4bb25c482f",
   "metadata": {},
   "source": [
    "Como as variáveis se relacionam 2:1, 3:1, etc com a variável resposta?"
   ]
  },
  {
   "cell_type": "markdown",
   "id": "0dc20877-6acf-4ea9-a036-9df3aaf62674",
   "metadata": {
    "jp-MarkdownHeadingCollapsed": true,
    "tags": []
   },
   "source": [
    "### 4.3.1 Numerical attributes"
   ]
  },
  {
   "cell_type": "code",
   "execution_count": null,
   "id": "887a0d18-fe8f-46e6-bb78-84f50cc26418",
   "metadata": {},
   "outputs": [],
   "source": [
    "df4.columns"
   ]
  },
  {
   "cell_type": "code",
   "execution_count": null,
   "id": "9f1c98e2-5f15-4b89-8264-f8723c552363",
   "metadata": {},
   "outputs": [],
   "source": [
    "num_attributes = num_attributes.drop([ 'open', 'customers' ], axis=1)"
   ]
  },
  {
   "cell_type": "code",
   "execution_count": null,
   "id": "babd0c80-c94e-4812-bd47-d8347b5cc6df",
   "metadata": {},
   "outputs": [],
   "source": [
    "num_attributes.columns"
   ]
  },
  {
   "cell_type": "code",
   "execution_count": null,
   "id": "268349e4-9169-46b1-96e7-6fc342c3aa27",
   "metadata": {},
   "outputs": [],
   "source": [
    "correlation = num_attributes.corr(method='pearson')\n",
    "sns.heatmap(correlation, annot=True, fmt=\".2f\")"
   ]
  },
  {
   "cell_type": "code",
   "execution_count": null,
   "id": "18f8d09f-7975-444b-858f-3dd2792478c9",
   "metadata": {},
   "outputs": [],
   "source": []
  },
  {
   "cell_type": "markdown",
   "id": "e6ad7466-67b7-42a2-86b6-e79b736b8742",
   "metadata": {
    "jp-MarkdownHeadingCollapsed": true,
    "tags": []
   },
   "source": [
    "### 4.3.2 Categorical attributes"
   ]
  },
  {
   "cell_type": "code",
   "execution_count": null,
   "id": "8d6a6133-29e1-42c3-a19f-3bd3cd1c93b4",
   "metadata": {},
   "outputs": [],
   "source": [
    "cat_attributes = df4.select_dtypes( include='object' )\n",
    "cat_attributes = cat_attributes.drop( 'year_week', axis=1 )"
   ]
  },
  {
   "cell_type": "code",
   "execution_count": null,
   "id": "08af0f63-a1fc-4919-8f6c-9e647699533d",
   "metadata": {},
   "outputs": [],
   "source": [
    "cat_attributes.head()"
   ]
  },
  {
   "cell_type": "code",
   "execution_count": null,
   "id": "faeec80b-338a-4d78-b4e2-a160b0c64ba1",
   "metadata": {},
   "outputs": [],
   "source": [
    "# Selecting categorical data\n",
    "cat_attributes = df4.select_dtypes( include='object' )\n",
    "cat_attributes = cat_attributes.drop( 'year_week', axis=1 )\n",
    "\n",
    "# Calculating Cramer V matrix.\n",
    "a1 = cramer_v( cat_attributes['state_holiday'], cat_attributes['state_holiday'] )\n",
    "a2 = cramer_v( cat_attributes['state_holiday'], cat_attributes['store_type'] )\n",
    "a3 = cramer_v( cat_attributes['state_holiday'], cat_attributes['assortment'] )\n",
    "\n",
    "a4 = cramer_v( cat_attributes['store_type'], cat_attributes['state_holiday'] )\n",
    "a5 = cramer_v( cat_attributes['store_type'], cat_attributes['store_type'] )\n",
    "a6 = cramer_v( cat_attributes['store_type'], cat_attributes['assortment'] )\n",
    "\n",
    "a7 = cramer_v( cat_attributes['assortment'], cat_attributes['state_holiday'] )\n",
    "a8 = cramer_v( cat_attributes['assortment'], cat_attributes['store_type'] )\n",
    "a9 = cramer_v( cat_attributes['assortment'], cat_attributes['assortment'] )\n",
    "\n",
    "# Cramer V matrix\n",
    "d = pd.DataFrame( { 'state_holiday': [a1, a2, a3],\n",
    "                    'store_type':    [a4, a5, a6], \n",
    "                    'assortment':    [a7, a8, a9] } )\n",
    "\n",
    "d = d.set_index( d.columns )\n",
    "\n",
    "sns.heatmap( d, annot=True, cmap=\"YlGnBu\" )"
   ]
  },
  {
   "cell_type": "code",
   "execution_count": null,
   "id": "95a76615-f345-4730-b0de-bb921320d64f",
   "metadata": {},
   "outputs": [],
   "source": []
  },
  {
   "cell_type": "markdown",
   "id": "431870bb-49d0-4417-824a-50575de2b0bc",
   "metadata": {
    "jp-MarkdownHeadingCollapsed": true,
    "tags": []
   },
   "source": [
    "# 5 DATA PREPARATION"
   ]
  },
  {
   "cell_type": "markdown",
   "id": "8169bae9-427e-4840-88c2-eed64d591baa",
   "metadata": {},
   "source": [
    "CRISP-DS: DATA MODELING"
   ]
  },
  {
   "cell_type": "markdown",
   "id": "c2380152-dacd-47bf-aa1e-9b8da2cdd2d4",
   "metadata": {
    "jp-MarkdownHeadingCollapsed": true,
    "tags": []
   },
   "source": [
    "## 5.0 Project status and Topic meaning"
   ]
  },
  {
   "cell_type": "code",
   "execution_count": null,
   "id": "f8824fcb-26c9-4ff5-8f76-e5c13e506eb2",
   "metadata": {},
   "outputs": [],
   "source": [
    "Image( 'img/progresso.png' )"
   ]
  },
  {
   "cell_type": "code",
   "execution_count": null,
   "id": "2fadfd3f-6e8e-42a0-8c82-6044de465c79",
   "metadata": {},
   "outputs": [],
   "source": [
    "df5 = df4.copy()"
   ]
  },
  {
   "cell_type": "markdown",
   "id": "ec895372-1890-4f83-a0a7-2ada49340b5a",
   "metadata": {},
   "source": [
    "Os modelos de ML funcionam melhor com dados numéricos e na mesma escala.\n",
    "\n",
    "- **1 -** Normalization (para Gaussiana): Rescala o centro para zero com desvio padrão igual a 1.\n",
    "- **2 -** Rescaling (para não Gaussiana): Rescala para um intervalo de 0 a 1.\n",
    "- **3 -** Transformation: Encoding (categorical to numerical), and data nature transformation (months are cyclical, for exemple)."
   ]
  },
  {
   "cell_type": "markdown",
   "id": "5964e765-2003-47fe-990a-e211da9a1bda",
   "metadata": {
    "jp-MarkdownHeadingCollapsed": true,
    "tags": []
   },
   "source": [
    "## 5.1 Standardization"
   ]
  },
  {
   "cell_type": "markdown",
   "id": "8c1411cd-698a-4974-a4ca-3ebd3ffaf4d7",
   "metadata": {},
   "source": [
    "x_new = (x_i - media)/desv"
   ]
  },
  {
   "cell_type": "markdown",
   "id": "ca187f6d-c4c7-46fd-9d8a-872b8486c083",
   "metadata": {},
   "source": [
    "Analyzing topic 4.1 Univariate Analysis, we cannot see clearly any variate available for normalization."
   ]
  },
  {
   "cell_type": "code",
   "execution_count": null,
   "id": "0d4af7ad-35c2-435c-8c2c-e65a627da070",
   "metadata": {},
   "outputs": [],
   "source": [
    "# from sklearn.preprocessing import StandardScaler\n",
    "\n",
    "# # Assuming 'data' is your dataset\n",
    "# scaler = StandardScaler()\n",
    "# data_standardized = scaler.fit_transform(data)"
   ]
  },
  {
   "cell_type": "markdown",
   "id": "099a9aba-29ab-483f-8663-66b44d78d950",
   "metadata": {
    "jp-MarkdownHeadingCollapsed": true,
    "tags": []
   },
   "source": [
    "## 5.2 Rescaling"
   ]
  },
  {
   "cell_type": "code",
   "execution_count": null,
   "id": "7b9e270f-b218-419a-b304-cd6ce5ca4dab",
   "metadata": {},
   "outputs": [],
   "source": [
    "num_feat = df5.select_dtypes( include=[ 'int32', 'int64', 'float64' ] )\n",
    "num_feat.columns"
   ]
  },
  {
   "cell_type": "markdown",
   "id": "42e85be5-cfa3-4a8d-aa7b-616633bd0447",
   "metadata": {},
   "source": [
    "Robust Scaler (data with strong outliers) or Min-Max Scaler (no outliers)"
   ]
  },
  {
   "cell_type": "code",
   "execution_count": null,
   "id": "9d50d364-9e49-4e4b-947b-8acc3faf7033",
   "metadata": {},
   "outputs": [],
   "source": [
    "# Testing Outliers\n",
    "#sns.boxplot(x=df5['promo_time_week'])\n",
    "#plt.xlabel(\"x\")\n",
    "#plt.show();"
   ]
  },
  {
   "cell_type": "code",
   "execution_count": null,
   "id": "2de47b07-3884-4f03-944a-c4e16f089f7f",
   "metadata": {},
   "outputs": [],
   "source": [
    "# LINEAR VARIABLES\n",
    "mms = MinMaxScaler()\n",
    "rs = RobustScaler()\n",
    "\n",
    "# year\n",
    "df5['year'] = mms.fit_transform( df5[['year']].values )\n",
    "\n",
    "# competition_distance - Robust\n",
    "df5['competition_distance'] = rs.fit_transform( df5[['competition_distance']].values )\n",
    "\n",
    "# competition_time_in_months\n",
    "df5['competition_time_in_months'] = rs.fit_transform( df5[['competition_time_in_months']].values )\n",
    "\n",
    "# promo_time_week\n",
    "df5['promo_time_week'] = mms.fit_transform( df5[['promo_time_week']].values )"
   ]
  },
  {
   "cell_type": "markdown",
   "id": "f51920c8-3177-49e8-a89f-9b25ce4d13b0",
   "metadata": {
    "jp-MarkdownHeadingCollapsed": true,
    "tags": []
   },
   "source": [
    "## 5.3 Encoding"
   ]
  },
  {
   "cell_type": "markdown",
   "id": "82af0302-92a8-435b-b1c1-d80bd51003fe",
   "metadata": {
    "jp-MarkdownHeadingCollapsed": true,
    "tags": []
   },
   "source": [
    "### 5.3.1 Categorical Encoding"
   ]
  },
  {
   "cell_type": "code",
   "execution_count": null,
   "id": "ffa2a274-2e84-48fe-8da2-4f14fd581e54",
   "metadata": {},
   "outputs": [],
   "source": [
    "# One Hot Encoding (google image it to check)\n",
    "# category  - >  hot    warm    cold\n",
    "#   hot           1      0       0\n",
    "#  cold           0      0       1\n",
    "#  warm           0      1       0\n",
    "\n",
    "\n",
    "# Label Encoding (just change names to numbers)\n",
    "# red, yellow, blue -> 1, 2, 3\n",
    "\n",
    "\n",
    "# Ordinal Encoding (change names to numbers respecting an order)\n",
    "# warm, cold, hot -> 2, 1, 3\n",
    "\n",
    "\n",
    "# Target Encoding (applied in features with many categories)\n",
    "# Its name is a hint: it works with the target variable (in our case, it's sales).\n",
    "# Stores a, b, c, d, e, f, g, h, i, f, etc...\n",
    "# Total Sales: 100\n",
    "# 'a' sales: 12. New 'a' value: 0.12\n",
    "# 'b' sales: 2. New 'b' value: 0.02\n",
    "# 'c' sales: 4. New 'c' value: 0.04\n",
    "# ...\n",
    "# 'f' sales: 9. New 'f' value: 0.09\n",
    "# 'g' sales: 12. New 'g' value: 0.12\n",
    "# ...\n",
    "\n",
    "\n",
    "# Frequency Encoding (applied in features with many categories)\n",
    "# It takes the category appearence frequency as its new value.\n",
    "\n",
    "\n",
    "\n",
    "# Embedding Encoding (used in NLP)\n",
    "# Analyzes the context of which the categories appear.\n",
    "\n"
   ]
  },
  {
   "cell_type": "code",
   "execution_count": null,
   "id": "2e809721-9ea7-48c8-92c7-f3595934654e",
   "metadata": {},
   "outputs": [],
   "source": [
    "# state_holiday - One Hot Encoding\n",
    "df5 = pd.get_dummies(df5, prefix=['state_holiday'], columns=['state_holiday'], dtype=int)\n",
    "\n",
    "# store_type - Label Encoding\n",
    "le = LabelEncoder()\n",
    "df5['store_type'] = le.fit_transform( df5['store_type'] )\n",
    "\n",
    "\n",
    "# assortment - Ordinal Encoding\n",
    "assort_dict = { 'basic': 1, 'extra': 2, 'extended': 3 }\n",
    "df5['assortment'] = df5['assortment'].map( assort_dict )"
   ]
  },
  {
   "cell_type": "markdown",
   "id": "94d89492-62ad-458c-af5f-06fd288d5b87",
   "metadata": {
    "jp-MarkdownHeadingCollapsed": true,
    "tags": []
   },
   "source": [
    "### 5.3.2 Response Variable Transformation"
   ]
  },
  {
   "cell_type": "markdown",
   "id": "afd1679c-e722-428a-bb2b-69c5ca1d6972",
   "metadata": {},
   "source": [
    "Transforming Poisson into Gaussian\n",
    "\n",
    "- Logarithm\n",
    "- Box-Cox\n",
    "- Cube-root\n",
    "- Sqrt\n",
    "- Sine/Cosine"
   ]
  },
  {
   "cell_type": "code",
   "execution_count": null,
   "id": "f312bcab-6fcf-44da-ae5c-8cf6a54c779c",
   "metadata": {},
   "outputs": [],
   "source": [
    "df5['sales'] = np.log1p( df5['sales'] )"
   ]
  },
  {
   "cell_type": "code",
   "execution_count": null,
   "id": "93f27a75-0681-4b8e-93ea-6835630f765d",
   "metadata": {},
   "outputs": [],
   "source": [
    "sns.distplot( df5['sales'] );"
   ]
  },
  {
   "cell_type": "markdown",
   "id": "8baf577e-d7bb-4649-bd36-3cbc9d87dba5",
   "metadata": {
    "jp-MarkdownHeadingCollapsed": true,
    "tags": []
   },
   "source": [
    "### 5.3.3 Cyclical Features Encoding"
   ]
  },
  {
   "cell_type": "code",
   "execution_count": null,
   "id": "f647c96a-1a45-440b-a9c4-df0262e503d2",
   "metadata": {},
   "outputs": [],
   "source": [
    "# CYCLICAL FEATURES ENCODING\n",
    "\n",
    "# day_of_week\n",
    "df5['dayweek_sin'] = df5['month'].apply( lambda x: np.sin( x * ( 2. * np.pi/7 ) ) )\n",
    "df5['dayweek_cos'] = df5['month'].apply( lambda x: np.cos( x * ( 2. * np.pi/7 ) ) )\n",
    "\n",
    "# month\n",
    "df5['month_sin'] = df5['month'].apply( lambda x: np.sin( x * ( 2. * np.pi/12 ) ) )\n",
    "df5['month_cos'] = df5['month'].apply( lambda x: np.cos( x * ( 2. * np.pi/12 ) ) )\n",
    "\n",
    "# day\n",
    "df5['daymonth_sin'] = df5['month'].apply( lambda x: np.sin( x * ( 2. * np.pi/30 ) ) )\n",
    "df5['daymonth_cos'] = df5['month'].apply( lambda x: np.cos( x * ( 2. * np.pi/30 ) ) )\n",
    "\n",
    "# week_of_year\n",
    "df5['weekyear_sin'] = df5['month'].apply( lambda x: np.sin( x * ( 2. * np.pi/52 ) ) )\n",
    "df5['weekyear_cos'] = df5['month'].apply( lambda x: np.cos( x * ( 2. * np.pi/52 ) ) )"
   ]
  },
  {
   "cell_type": "markdown",
   "id": "82660969-6fb9-4c57-af4c-a17bcf55d6db",
   "metadata": {
    "jp-MarkdownHeadingCollapsed": true,
    "tags": []
   },
   "source": [
    "# 6 FEATURE SELECTION"
   ]
  },
  {
   "cell_type": "markdown",
   "id": "f8397bc6-af14-4e94-82c1-8786cf65dda0",
   "metadata": {
    "jp-MarkdownHeadingCollapsed": true,
    "tags": []
   },
   "source": [
    "## 6.0 "
   ]
  },
  {
   "cell_type": "markdown",
   "id": "fac5d5e5-15d8-4eae-9c03-6e67565b4ba4",
   "metadata": {},
   "source": [
    "CRISP-DS: DATA MODELING"
   ]
  },
  {
   "cell_type": "code",
   "execution_count": null,
   "id": "9bdf5014-7728-4a7a-95dd-27cf100fcb3a",
   "metadata": {},
   "outputs": [],
   "source": [
    "df6 = df5.copy()"
   ]
  },
  {
   "cell_type": "markdown",
   "id": "d3b2c4dc-e086-4515-8e7e-27590d3686d9",
   "metadata": {},
   "source": [
    "Occam's Razor: O mais simples é essencial para um algoritmo de ML."
   ]
  },
  {
   "cell_type": "code",
   "execution_count": null,
   "id": "cc4b6aee-7169-477c-8771-d0baf38a7540",
   "metadata": {},
   "outputs": [],
   "source": [
    "# FILTER METHODS (Univariada)\n",
    "\n",
    "#Relevância através da correlação entre variáveis\n",
    "\n",
    "#             |       Numérica       |                 Categórica\n",
    "#----------------------------------------------------------------------------------\n",
    "# Numérica    |    corr. Pearson     |     LDA (linear discriminant analysis)\n",
    "#----------------------------------------------------------------------------------\n",
    "# Categórica  |        Anova         |           Chi-Square / Cramer's V\n",
    "\n",
    "# Não considera a força de múltiplas variáveis que se reforçam para agir na variável alvo."
   ]
  },
  {
   "cell_type": "code",
   "execution_count": null,
   "id": "5ed590d6-8829-46f5-b3d7-ef186e594ccd",
   "metadata": {},
   "outputs": [],
   "source": [
    "# EMBEDDED METHODS (por importância / embutido)\n",
    "# Já embutido em alguns algoritmos\n",
    "\n",
    "# Random Forest\n",
    "# Gini impurity: Determina o grau de importância de uma feature ao usá-la para dividir um conjunto de dados em dois subconjuntos. Se esses\n",
    "# subconjuntos forem bastante homogêneos entre si, a feature tem bastante importância. Caso contrário, tem baixa importância.\n",
    "\n",
    "# Lasso / Ridge -> Coefficients Importance"
   ]
  },
  {
   "cell_type": "code",
   "execution_count": null,
   "id": "f731551a-2d36-4230-878d-223b51b3c885",
   "metadata": {},
   "outputs": [],
   "source": [
    "# Wrapper Methods (por subset)\n",
    "\n",
    "# Testa variável por variável em vários ciclos rodando algoritmos de ML. Se ao adicionar uma variável, a performance aumenta, ela é mantida. Caso \n",
    "# contrário, ela é removida.\n",
    "\n",
    "# ALGORITMO BORUTA"
   ]
  },
  {
   "cell_type": "markdown",
   "id": "64270936-60b3-436c-9d9f-9a905d8c3bb9",
   "metadata": {
    "jp-MarkdownHeadingCollapsed": true,
    "tags": []
   },
   "source": [
    "## 6.1 Splitting dataframe between training and test dataset"
   ]
  },
  {
   "cell_type": "code",
   "execution_count": null,
   "id": "8d975604-e725-4c57-896f-e4614bb97584",
   "metadata": {},
   "outputs": [],
   "source": [
    "df6.head(1)"
   ]
  },
  {
   "cell_type": "code",
   "execution_count": null,
   "id": "27c2966c-996a-43f4-88af-0ee80942e455",
   "metadata": {},
   "outputs": [],
   "source": [
    "cols_drop = [ 'week_of_year', 'day', 'month', 'day_of_week', 'promo_since', 'competition_since', 'year_week' ]\n",
    "df6 = df6.drop( cols_drop, axis=1 )"
   ]
  },
  {
   "cell_type": "code",
   "execution_count": null,
   "id": "2dae9204-2800-40d2-8120-4821313b3fb2",
   "metadata": {},
   "outputs": [],
   "source": [
    "# Splitting last 6 weeks of sales as sample for testing.\n",
    "six_week_ago = df6[['store', 'date']].groupby('store').max().reset_index()['date'][0] - datetime.timedelta( days = 6*7 )"
   ]
  },
  {
   "cell_type": "code",
   "execution_count": null,
   "id": "e63e3c82-6bba-4adf-afa5-a80b7de00f79",
   "metadata": {},
   "outputs": [],
   "source": [
    "# training dataset\n",
    "x_train = df6[ df6['date'] < six_week_ago ]\n",
    "y_train = x_train['sales']\n",
    "\n",
    "# test dataset\n",
    "x_test = df6[ df6['date'] >= six_week_ago ]\n",
    "y_test = x_test['sales']\n",
    "\n",
    "print( 'Training Min Date: {}'.format( x_train['date'].min() ) )\n",
    "print( 'Training Max Date: {}'.format( x_train['date'].max() ) )\n",
    "\n",
    "print( '\\nTest Min Date: {}'.format( x_test['date'].min() ) )\n",
    "print( 'Test Max Date: {}'.format( x_test['date'].max() ) )"
   ]
  },
  {
   "cell_type": "markdown",
   "id": "f3330573-e4c5-4e1f-a9b4-e4b2e4c94f83",
   "metadata": {
    "jp-MarkdownHeadingCollapsed": true,
    "tags": []
   },
   "source": [
    "## 6.2 Boruta as Feature Selector"
   ]
  },
  {
   "cell_type": "code",
   "execution_count": null,
   "id": "bcbcf38e-de7c-4cb3-b62e-b6389d0b7bb4",
   "metadata": {},
   "outputs": [],
   "source": [
    "x_train.head(1)"
   ]
  },
  {
   "cell_type": "code",
   "execution_count": null,
   "id": "146001b7-e92a-44e4-a53c-4a809a5e3b2b",
   "metadata": {},
   "outputs": [],
   "source": [
    "# training and test dataset\n",
    "x_train_n = x_train.drop( [ 'date', 'sales' ], axis=1 ).values\n",
    "y_train_n = y_train.values.ravel()\n",
    "\n",
    "# define RandomForestRegressor\n",
    "rf = RandomForestRegressor( n_jobs=-1 )\n",
    "\n",
    "# define Boruta\n",
    "boruta = BorutaPy( rf, n_estimators='auto', verbose=2, random_state=42 ).fit( x_train_n, y_train_n )"
   ]
  },
  {
   "cell_type": "markdown",
   "id": "87c88fb5-fc68-44c5-8956-d3e2562c317c",
   "metadata": {
    "tags": []
   },
   "source": [
    "### 6.2.1 Best features from Boruta"
   ]
  },
  {
   "cell_type": "code",
   "execution_count": null,
   "id": "a6ea60c6-22cf-4269-8433-6504da1a7456",
   "metadata": {},
   "outputs": [],
   "source": [
    "cols_selected = boruta.support_.tolist()\n",
    "\n",
    "x_train_fs = x_train.drop( [ 'date', 'sales' ], axis=1 )\n",
    "cols_selected_boruta = x_train_fs.iloc[ :, cols_selected ].columns\n",
    "\n",
    "cols_not_selected_boruta = np.setdiff1d( x_train_fs.columns, cols_selected_boruta )"
   ]
  },
  {
   "cell_type": "code",
   "execution_count": null,
   "id": "0111f4ac-3cf2-4fe5-8683-9d936d7aa0e9",
   "metadata": {},
   "outputs": [],
   "source": [
    "list(cols_selected_boruta)"
   ]
  },
  {
   "cell_type": "code",
   "execution_count": null,
   "id": "cb0eccd4-e572-4f4a-b380-b689faab2bb7",
   "metadata": {},
   "outputs": [],
   "source": [
    "cols_not_selected_boruta"
   ]
  },
  {
   "cell_type": "code",
   "execution_count": null,
   "id": "13e5f041-058c-43f7-89f6-aee1ae24c808",
   "metadata": {},
   "outputs": [],
   "source": [
    "print(hypothesis_summary)"
   ]
  },
  {
   "cell_type": "code",
   "execution_count": null,
   "id": "ea2f5fd6-a923-467e-a670-11f31fd6c19a",
   "metadata": {},
   "outputs": [],
   "source": [
    "# Compare hypothesis_summary and cols_selected_boruta"
   ]
  },
  {
   "cell_type": "markdown",
   "id": "268b66bc-b64f-46ae-b50c-de84e131f77c",
   "metadata": {
    "jp-MarkdownHeadingCollapsed": true,
    "tags": []
   },
   "source": [
    "## 6.3 Manual Feature Selection"
   ]
  },
  {
   "cell_type": "code",
   "execution_count": null,
   "id": "31b7b1e1-6ea8-4a78-9bf2-b4a47d554456",
   "metadata": {},
   "outputs": [],
   "source": [
    "# boruta features\n",
    "cols_selected_boruta = [ 'store',\n",
    "                         'promo',\n",
    "                         'store_type',\n",
    "                         'assortment',\n",
    "                         'competition_distance',\n",
    "                         'competition_open_since_month',\n",
    "                         'competition_open_since_year',\n",
    "                         'promo2',\n",
    "                         'promo2_since_week',\n",
    "                         'promo2_since_year',\n",
    "                         'competition_time_in_months',\n",
    "                         'promo_time_week']\n",
    "\n",
    "# cols to add\n",
    "feat_to_add = [ 'date', 'sales' ]\n",
    "\n",
    "# final features\n",
    "#cols_selected_boruta.extend( feat_to_add )"
   ]
  },
  {
   "cell_type": "code",
   "execution_count": null,
   "id": "af1c733b-7a3c-49f8-ab1d-78768f1e8b1d",
   "metadata": {},
   "outputs": [],
   "source": [
    "cols_selected_boruta"
   ]
  },
  {
   "cell_type": "markdown",
   "id": "676d1d68-4d2c-4c50-8dce-304b8464d8a2",
   "metadata": {
    "tags": []
   },
   "source": [
    "# 7 MACHINE LEARNING ALGORITHMS"
   ]
  },
  {
   "cell_type": "markdown",
   "id": "58724b67-2b15-4b6b-a289-09c241d7c090",
   "metadata": {
    "jp-MarkdownHeadingCollapsed": true,
    "tags": []
   },
   "source": [
    "### Algoritmos supervisionados"
   ]
  },
  {
   "cell_type": "markdown",
   "id": "01a8aa11-ad18-42ac-899b-bdeba7e18567",
   "metadata": {},
   "source": [
    "TREINAMENTO: Compara outras entradas com variável alvo. Tenta identificar padrão.\n",
    "\n",
    "\n",
    "TAREFA SUPERVISIONADA - VARIÁVEL ALVO ROTULADA e é usada no treinamento\n",
    "\n",
    "1 - Classificação - analisa características disponíveis e divide os dados em categorias. Quando um novo dado é adicionado, coloca ele em uma das classificações.\n",
    "\n",
    "2 - Regressão - analisa características disponíveis e divide os dados em valores contínuos. Quando um novo dado é adicionado, um novo valor é dado\n",
    "a ele.\n",
    "\n",
    "3 - Séries Temporais - aplicando Regressão a uma situação em que se tem informação de tempo corrido, é possível prever tendências futuras."
   ]
  },
  {
   "cell_type": "markdown",
   "id": "e6397644-1818-4d70-b6a3-ee8d1b3d15dd",
   "metadata": {
    "jp-MarkdownHeadingCollapsed": true,
    "tags": []
   },
   "source": [
    "### Algoritmos não-supervisionados"
   ]
  },
  {
   "cell_type": "markdown",
   "id": "f7c1720c-91d7-4089-88c2-c02f40e2fb1d",
   "metadata": {},
   "source": [
    "Sem nenhum rótulo conhecido pelo algoritmo, ele tenta agrupar os dados.\n",
    "\n",
    "Clusterização/Agrupamento"
   ]
  },
  {
   "cell_type": "markdown",
   "id": "1ff46849-7880-480d-84f7-dd1b207b9f95",
   "metadata": {
    "jp-MarkdownHeadingCollapsed": true,
    "tags": []
   },
   "source": [
    "### Algoritmos semi-supervisionados"
   ]
  },
  {
   "cell_type": "markdown",
   "id": "cae70717-6cd0-4bce-8e9d-29184507f040",
   "metadata": {},
   "source": [
    "REINFORCEMENT LEARNING\n",
    "\n",
    "Agente age sobre Ambiente\n",
    "Ambiente recompensa Agente\n",
    "\n",
    "Damn it, Pavlov.\n",
    "\n",
    "Exemplo: algoritmo do Netflix"
   ]
  },
  {
   "cell_type": "markdown",
   "id": "c07ff23b-ebaf-49ce-93eb-d607231e6dc3",
   "metadata": {
    "jp-MarkdownHeadingCollapsed": true,
    "tags": []
   },
   "source": [
    "## ML Models"
   ]
  },
  {
   "cell_type": "markdown",
   "id": "51c44d00-b236-473a-8873-f7ec577c42b8",
   "metadata": {},
   "source": [
    "LINEARES\n",
    "\n",
    "**1 -** Average Model\n",
    "\n",
    "**2 -** Linear Regression\n",
    "\n",
    "**3 -** Linear Regression Regularized\n",
    "\n",
    "NÃO-LINEARES\n",
    "\n",
    "**4 -** Random Forest Regression\n",
    "\n",
    "**5 -** XGBoost Regressor"
   ]
  },
  {
   "cell_type": "markdown",
   "id": "467f331f-0af9-4932-8a93-4341733adbe9",
   "metadata": {
    "jp-MarkdownHeadingCollapsed": true,
    "tags": []
   },
   "source": [
    "## 7.0 Data"
   ]
  },
  {
   "cell_type": "code",
   "execution_count": null,
   "id": "b0b1534d-b3a1-4188-8425-3132c36bcc59",
   "metadata": {
    "tags": []
   },
   "outputs": [],
   "source": [
    "x_train_ml = x_train[ cols_selected_boruta ]\n",
    "x_test_ml = x_test[ cols_selected_boruta ]"
   ]
  },
  {
   "cell_type": "code",
   "execution_count": null,
   "id": "5188966a-12f1-45ed-9c96-2845c87bcae8",
   "metadata": {},
   "outputs": [],
   "source": [
    "x_train.shape"
   ]
  },
  {
   "cell_type": "markdown",
   "id": "dfcec11e-7c8c-4c7c-903e-c1112545c0e2",
   "metadata": {
    "jp-MarkdownHeadingCollapsed": true,
    "tags": []
   },
   "source": [
    "## 7.1 Average Model"
   ]
  },
  {
   "cell_type": "code",
   "execution_count": null,
   "id": "39b514b2-1b22-44ae-84c0-e493a6b8adc7",
   "metadata": {},
   "outputs": [],
   "source": [
    "aux1 = x_test_ml.copy()\n",
    "aux1['sales'] = y_test.copy()\n",
    "\n",
    "# prediction\n",
    "aux2 = aux1[ [ 'store', 'sales' ] ].groupby('store').mean().reset_index().rename( columns={'sales': 'predictions'} )\n",
    "aux1 = pd.merge( aux1, aux2, how='left', on='store' )\n",
    "yhat_baseline = aux1['predictions']\n",
    "\n",
    "\n",
    "# performance\n",
    "baseline_result = ml_error( 'Average Model', np.expm1(y_test), np.expm1(yhat_baseline) )\n",
    "baseline_result"
   ]
  },
  {
   "cell_type": "markdown",
   "id": "d71f50c8-6776-4af4-aa55-1fc9e702d854",
   "metadata": {
    "jp-MarkdownHeadingCollapsed": true,
    "tags": []
   },
   "source": [
    "## 7.2 Linear Regression"
   ]
  },
  {
   "cell_type": "code",
   "execution_count": null,
   "id": "e52f3d2a-0451-416e-9972-fd1ef851b359",
   "metadata": {},
   "outputs": [],
   "source": [
    "# Model\n",
    "lr = LinearRegression().fit( x_train_ml, y_train )\n",
    "\n",
    "# Prediction\n",
    "yhat_lr = lr.predict( x_test_ml )\n",
    "\n",
    "# Performance\n",
    "lr_result = ml_error( 'Linear Regression', np.expm1(y_test), np.expm1(yhat_lr) )\n",
    "lr_result"
   ]
  },
  {
   "cell_type": "markdown",
   "id": "7836c691-5d86-4ba7-9542-e6a4a2e4f439",
   "metadata": {
    "jp-MarkdownHeadingCollapsed": true,
    "tags": []
   },
   "source": [
    "## 7.3 Linear Regression Regularized - Lasso"
   ]
  },
  {
   "cell_type": "code",
   "execution_count": null,
   "id": "6a84001e-7b59-4382-bfdf-0c38deed7590",
   "metadata": {},
   "outputs": [],
   "source": [
    "# Model\n",
    "lrr = Lasso( alpha=0.01 ).fit( x_train_ml, y_train )\n",
    "\n",
    "# Prediction\n",
    "yhat_lrr = lr.predict( x_test_ml )\n",
    "\n",
    "# Performance\n",
    "lrr_result = ml_error( 'Linear Regression - Lasso', np.expm1(y_test), np.expm1(yhat_lrr) )\n",
    "lrr_result"
   ]
  },
  {
   "cell_type": "markdown",
   "id": "4f4e152e-762c-4ba3-8f25-b420942fd9ea",
   "metadata": {
    "tags": []
   },
   "source": [
    "## 7.4 Random Forest Regressor"
   ]
  },
  {
   "cell_type": "code",
   "execution_count": null,
   "id": "50b8d24b-a9f7-4d2e-b93b-c9b04ef012fb",
   "metadata": {},
   "outputs": [],
   "source": [
    "from sklearn.ensemble import RandomForestRegressor\n",
    "\n",
    "\n",
    "# Model\n",
    "rf = RandomForestRegressor( n_estimators=50, n_jobs=-1, random_state=42 ).fit( x_train_ml, y_train )\n",
    "\n",
    "# Prediction\n",
    "yhat_rf = rf.predict( x_test_ml )\n",
    "\n",
    "# Performance\n",
    "rf_result = ml_error( 'Random Forest Regressor', np.expm1(y_test), np.expm1(yhat_rf) )\n",
    "rf_result"
   ]
  },
  {
   "cell_type": "markdown",
   "id": "4daa406a-ec39-4be9-8204-4dca0a9a2e9e",
   "metadata": {
    "tags": []
   },
   "source": [
    "## 7.5 XGBoost Regressor"
   ]
  },
  {
   "cell_type": "code",
   "execution_count": null,
   "id": "3f6a9226-0e18-4c16-8f64-c0fcf79cdccf",
   "metadata": {},
   "outputs": [],
   "source": [
    "import xgboost as xgb\n",
    "\n",
    "# Model\n",
    "model_xgb = xgb.XGBRegressor( objective='reg:squarederror',\n",
    "                             n_estimators=1000, \n",
    "                             eta=0.01, \n",
    "                             max_depth=10,\n",
    "                             subsample=0.7,\n",
    "                             colsample_bytee=0.9 ).fit( x_train_ml, y_train )\n",
    "\n",
    "# Prediction\n",
    "yhat_xgb = model_xgb.predict( x_test_ml )\n",
    "\n",
    "# Performance\n",
    "xgb_result = ml_error( 'XGBoost Regressor', np.expm1(y_test), np.expm1(yhat_xgb) )\n",
    "xgb_result"
   ]
  },
  {
   "cell_type": "markdown",
   "id": "789abf24-b8a5-4144-a0ee-15d121a79e46",
   "metadata": {
    "tags": []
   },
   "source": [
    "## 7.6 Compare Models' Performances"
   ]
  },
  {
   "cell_type": "code",
   "execution_count": null,
   "id": "8aedc4d1-5910-40a2-9b25-a0d4680d9927",
   "metadata": {},
   "outputs": [],
   "source": [
    "modeling_result = pd.concat( [ baseline_result, lr_result, lrr_result, rf_result, xgb_result ] )\n",
    "modeling_result.sort_values( 'RMSE' )"
   ]
  },
  {
   "cell_type": "markdown",
   "id": "da6d7275-adf8-450b-8566-202d3a3553e4",
   "metadata": {},
   "source": [
    "## 7.7 Cross-Validation"
   ]
  },
  {
   "cell_type": "code",
   "execution_count": null,
   "id": "8201623f-16f4-4d90-a35a-93d0e2c26a0a",
   "metadata": {},
   "outputs": [],
   "source": []
  },
  {
   "cell_type": "code",
   "execution_count": null,
   "id": "f2797d5e-5ffc-41df-8054-354403cbc28a",
   "metadata": {},
   "outputs": [],
   "source": []
  },
  {
   "cell_type": "markdown",
   "id": "40afdf77-6615-4196-ae56-d3de06d3d81b",
   "metadata": {
    "tags": []
   },
   "source": [
    "# 0.0 IMPORTS"
   ]
  },
  {
   "cell_type": "markdown",
   "id": "d0340fd2-80a4-48b6-9b75-02cc71e5dd67",
   "metadata": {
    "tags": []
   },
   "source": [
    "# 0.0 IMPORTS"
   ]
  },
  {
   "cell_type": "markdown",
   "id": "72f3fa0c-42e9-4392-aa50-f9bde9dddc6b",
   "metadata": {
    "tags": []
   },
   "source": [
    "# 0.0 IMPORTS"
   ]
  }
 ],
 "metadata": {
  "kernelspec": {
   "display_name": "rossman",
   "language": "python",
   "name": "rossman"
  },
  "language_info": {
   "codemirror_mode": {
    "name": "ipython",
    "version": 3
   },
   "file_extension": ".py",
   "mimetype": "text/x-python",
   "name": "python",
   "nbconvert_exporter": "python",
   "pygments_lexer": "ipython3",
   "version": "3.10.13"
  }
 },
 "nbformat": 4,
 "nbformat_minor": 5
}
